{
 "cells": [
  {
   "cell_type": "code",
   "execution_count": 1,
   "metadata": {},
   "outputs": [
    {
     "name": "stderr",
     "output_type": "stream",
     "text": [
      "Using TensorFlow backend.\n"
     ]
    }
   ],
   "source": [
    "from keras.models import Sequential, Model, load_model\n",
    "from keras.layers import Dense, Activation, LeakyReLU, BatchNormalization, LSTM, Bidirectional, Input, Concatenate\n",
    "from keras import backend as K\n",
    "from keras.callbacks import TensorBoard\n",
    "from keras.optimizers import Adam\n",
    "from keras.utils import plot_model\n",
    "import pandas as pd\n",
    "import numpy as np\n",
    "from sklearn.model_selection import train_test_split"
   ]
  },
  {
   "cell_type": "code",
   "execution_count": 2,
   "metadata": {},
   "outputs": [],
   "source": [
    "df = pd.read_csv('../options-df-sigma.csv')\n",
    "df = df.dropna(axis=0)\n",
    "df = df.drop(columns=['exdate', 'impl_volatility', 'volume', 'open_interest', 'sigma_20'])\n",
    "df.strike_price = df.strike_price / 1000\n",
    "call_df = df[df.cp_flag == 'C'].drop(['cp_flag'], axis=1)\n",
    "put_df = df[df.cp_flag == 'P'].drop(['cp_flag'], axis=1)\n",
    "underlying = pd.read_csv('../daily-closing-prices.csv')\n",
    "N_TIMESTEPS = 20\n",
    "padded = np.insert(underlying.close.values, 0, np.array([np.nan] * N_TIMESTEPS))\n",
    "rolled = np.column_stack([np.roll(padded, i) for i in range(N_TIMESTEPS)])\n",
    "rolled = rolled[~np.isnan(rolled).any(axis=1)]\n",
    "rolled = np.column_stack((underlying.date.values[N_TIMESTEPS - 1:], rolled))\n",
    "price_history = pd.DataFrame(data=rolled)\n",
    "joined = df.join(price_history.set_index(0), on='date')\n",
    "call_df = joined[joined.cp_flag == 'C'].drop(['cp_flag'], axis=1)\n",
    "put_df = joined[joined.cp_flag == 'P'].drop(['cp_flag'], axis=1)\n",
    "call_df = call_df.drop(columns=['date'])\n",
    "put_df = put_df.drop(columns=['date'])\n",
    "call_X_train, call_X_test, call_y_train, call_y_test = train_test_split(call_df.drop(['best_bid', 'best_offer'], axis=1).values,\n",
    "                                                                        ((call_df.best_bid + call_df.best_offer) / 2).values,\n",
    "                                                                        test_size=0.01, random_state=42)\n",
    "put_X_train, put_X_test, put_y_train, put_y_test = train_test_split(put_df.drop(['best_bid', 'best_offer'], axis=1).values,\n",
    "                                                                    ((put_df.best_bid + put_df.best_offer) / 2).values,\n",
    "                                                                    test_size=0.01, random_state=42)\n",
    "call_X_train = [call_X_train[:, -N_TIMESTEPS:].reshape(call_X_train.shape[0], N_TIMESTEPS, 1), call_X_train[:, :4]]\n",
    "call_X_test = [call_X_test[:, -N_TIMESTEPS:].reshape(call_X_test.shape[0], N_TIMESTEPS, 1), call_X_test[:, :4]]\n",
    "put_X_train = [put_X_train[:, -N_TIMESTEPS:].reshape(put_X_train.shape[0], N_TIMESTEPS, 1), put_X_train[:, :4]]\n",
    "put_X_test = [put_X_test[:, -N_TIMESTEPS:].reshape(put_X_test.shape[0], N_TIMESTEPS, 1), put_X_test[:, :4]]"
   ]
  },
  {
   "cell_type": "code",
   "execution_count": 3,
   "metadata": {},
   "outputs": [
    {
     "name": "stdout",
     "output_type": "stream",
     "text": [
      "WARNING:tensorflow:From /home/ubuntu/anaconda3/envs/tensorflow_p36/lib/python3.6/site-packages/keras/backend/tensorflow_backend.py:517: The name tf.placeholder is deprecated. Please use tf.compat.v1.placeholder instead.\n",
      "\n",
      "WARNING:tensorflow:From /home/ubuntu/anaconda3/envs/tensorflow_p36/lib/python3.6/site-packages/keras/backend/tensorflow_backend.py:74: The name tf.get_default_graph is deprecated. Please use tf.compat.v1.get_default_graph instead.\n",
      "\n",
      "WARNING:tensorflow:From /home/ubuntu/anaconda3/envs/tensorflow_p36/lib/python3.6/site-packages/keras/backend/tensorflow_backend.py:4138: The name tf.random_uniform is deprecated. Please use tf.random.uniform instead.\n",
      "\n",
      "WARNING:tensorflow:From /home/ubuntu/anaconda3/envs/tensorflow_p36/lib/python3.6/site-packages/keras/backend/tensorflow_backend.py:133: The name tf.placeholder_with_default is deprecated. Please use tf.compat.v1.placeholder_with_default instead.\n",
      "\n",
      "WARNING:tensorflow:From /home/ubuntu/anaconda3/envs/tensorflow_p36/lib/python3.6/site-packages/keras/backend/tensorflow_backend.py:174: The name tf.get_default_session is deprecated. Please use tf.compat.v1.get_default_session instead.\n",
      "\n",
      "WARNING:tensorflow:From /home/ubuntu/anaconda3/envs/tensorflow_p36/lib/python3.6/site-packages/keras/optimizers.py:790: The name tf.train.Optimizer is deprecated. Please use tf.compat.v1.train.Optimizer instead.\n",
      "\n",
      "WARNING:tensorflow:From /home/ubuntu/anaconda3/envs/tensorflow_p36/lib/python3.6/site-packages/tensorflow/python/ops/math_grad.py:1250: add_dispatch_support.<locals>.wrapper (from tensorflow.python.ops.array_ops) is deprecated and will be removed in a future version.\n",
      "Instructions for updating:\n",
      "Use tf.where in 2.0, which has the same broadcast rule as np.where\n"
     ]
    }
   ],
   "source": [
    "call_model = load_model('saved-models/20191207-call-lstm-v3.h5')\n",
    "put_model = load_model('saved-models/20191207-put-lstm-v3.h5')"
   ]
  },
  {
   "cell_type": "code",
   "execution_count": 8,
   "metadata": {},
   "outputs": [],
   "source": [
    "from scipy.stats import norm\n",
    "def black_scholes(row):\n",
    "    S = row.closing_price\n",
    "    X = row.strike_price\n",
    "    T = row.date_ndiff / 365\n",
    "    r = row.treasury_rate / 100\n",
    "    σ = row.sigma_20\n",
    "    d1 = (np.log(S / X) + (r + (σ ** 2) / 2) * T) / (σ * (T ** .5))\n",
    "    d2 = d1 - σ * (T ** .5)\n",
    "    C = S * norm.cdf(d1) - X * np.exp(-r * T) * norm.cdf(d2)\n",
    "    return C\n",
    "def black_scholes_put(row):\n",
    "    S = row.closing_price\n",
    "    X = row.strike_price\n",
    "    T = row.date_ndiff / 365\n",
    "    r = row.treasury_rate / 100\n",
    "    σ = row.sigma_20\n",
    "    d1 = (np.log(S / X) + (r + (σ ** 2) / 2) * T) / (σ * (T ** .5))\n",
    "    d2 = d1 - σ * (T ** .5)\n",
    "    P  = norm.cdf(-d2) * X * np.exp(-r * T) - S * norm.cdf(-d1)\n",
    "    return P"
   ]
  },
  {
   "cell_type": "code",
   "execution_count": 4,
   "metadata": {},
   "outputs": [],
   "source": [
    "def error_metrics(actual, predicted):\n",
    "    diff = actual - predicted\n",
    "    mse = np.mean(np.square(diff))\n",
    "    rel = diff / actual\n",
    "    bias = 100 * np.median(rel)\n",
    "    aape = 100 * np.mean(np.abs(rel))\n",
    "    mape = 100 * np.median(np.abs(rel))\n",
    "    pe5 = 100 * sum(np.abs(rel) < 0.05) / rel.shape[0]\n",
    "    pe10 = 100 * sum(np.abs(rel) < 0.10) / rel.shape[0]\n",
    "    pe20 = 100 * sum(np.abs(rel) < 0.20) / rel.shape[0]\n",
    "    return [mse, bias, aape, mape, pe5, pe10, pe20]"
   ]
  },
  {
   "cell_type": "code",
   "execution_count": 5,
   "metadata": {},
   "outputs": [],
   "source": [
    "line1 = error_metrics(call_y_test, call_model.predict(call_X_test, batch_size=4096).reshape(call_y_test.shape[0]))\n",
    "line2 = error_metrics(put_y_test, put_model.predict(put_X_test, batch_size=4096).reshape(put_y_test.shape[0]))"
   ]
  },
  {
   "cell_type": "code",
   "execution_count": 16,
   "metadata": {},
   "outputs": [
    {
     "name": "stdout",
     "output_type": "stream",
     "text": [
      "5051759/5051759 [==============================] - 76s 15us/step\n"
     ]
    },
    {
     "data": {
      "text/plain": [
       "30.60885801446508"
      ]
     },
     "execution_count": 16,
     "metadata": {},
     "output_type": "execute_result"
    }
   ],
   "source": [
    "call_model.evaluate(call_X_train, call_y_train, batch_size=4096)"
   ]
  },
  {
   "cell_type": "code",
   "execution_count": 17,
   "metadata": {},
   "outputs": [
    {
     "name": "stdout",
     "output_type": "stream",
     "text": [
      "5591807/5591807 [==============================] - 85s 15us/step\n"
     ]
    },
    {
     "data": {
      "text/plain": [
       "22.81052681335769"
      ]
     },
     "execution_count": 17,
     "metadata": {},
     "output_type": "execute_result"
    }
   ],
   "source": [
    "put_model.evaluate(put_X_train, put_y_train, batch_size=4096)"
   ]
  },
  {
   "cell_type": "code",
   "execution_count": 18,
   "metadata": {},
   "outputs": [
    {
     "name": "stdout",
     "output_type": "stream",
     "text": [
      "& 30.61 & 30.97 & 0.13\\% & 26.58\\% & 2.33\\% & 58.94\\% & 66.35\\% & 72.42\\% \\\\\n",
      "& 22.81 & 23.15 & 6.01\\% & 48.32\\% & 26.05\\% & 27.45\\% & 36.24\\% & 46.17\\% \\\\\n"
     ]
    }
   ],
   "source": [
    "for line in ([30.608, *line1], [22.810, *line2]):\n",
    "    print('& {:.2f} & {:.2f} & {:.2f}\\% & {:.2f}\\% & {:.2f}\\% & {:.2f}\\% & {:.2f}\\% & {:.2f}\\% \\\\\\\\'.format(*line))"
   ]
  },
  {
   "cell_type": "code",
   "execution_count": null,
   "metadata": {},
   "outputs": [],
   "source": []
  }
 ],
 "metadata": {
  "kernelspec": {
   "display_name": "Environment (conda_tensorflow_p36)",
   "language": "python",
   "name": "conda_tensorflow_p36"
  },
  "language_info": {
   "codemirror_mode": {
    "name": "ipython",
    "version": 3
   },
   "file_extension": ".py",
   "mimetype": "text/x-python",
   "name": "python",
   "nbconvert_exporter": "python",
   "pygments_lexer": "ipython3",
   "version": "3.6.5"
  }
 },
 "nbformat": 4,
 "nbformat_minor": 2
}
