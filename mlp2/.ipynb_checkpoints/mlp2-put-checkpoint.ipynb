{
 "cells": [
  {
   "cell_type": "code",
   "execution_count": 1,
   "metadata": {},
   "outputs": [
    {
     "name": "stderr",
     "output_type": "stream",
     "text": [
      "Using TensorFlow backend.\n"
     ]
    }
   ],
   "source": [
    "from keras.models import Sequential\n",
    "from keras.layers import Dense, Activation, LeakyReLU, BatchNormalization\n",
    "from keras import backend\n",
    "from keras.callbacks import TensorBoard\n",
    "from keras.optimizers import Adam\n",
    "import pandas as pd\n",
    "import numpy as np\n",
    "from sklearn.model_selection import train_test_split"
   ]
  },
  {
   "cell_type": "code",
   "execution_count": 2,
   "metadata": {},
   "outputs": [],
   "source": [
    "# Hyperparams\n",
    "n_units = 400\n",
    "layers = 4\n",
    "n_batch = 4096\n",
    "n_epochs = 50"
   ]
  },
  {
   "cell_type": "code",
   "execution_count": 3,
   "metadata": {},
   "outputs": [],
   "source": [
    "df = pd.read_csv('options-df-sigma.csv')\n",
    "df = df.dropna(axis=0)\n",
    "df = df.drop(columns=['date', 'exdate', 'impl_volatility', 'volume', 'open_interest'])\n",
    "df.strike_price = df.strike_price / 1000\n",
    "call_df = df[df.cp_flag == 'C'].drop(['cp_flag'], axis=1)\n",
    "put_df = df[df.cp_flag == 'P'].drop(['cp_flag'], axis=1)"
   ]
  },
  {
   "cell_type": "code",
   "execution_count": 4,
   "metadata": {},
   "outputs": [
    {
     "data": {
      "text/html": [
       "<div>\n",
       "<style scoped>\n",
       "    .dataframe tbody tr th:only-of-type {\n",
       "        vertical-align: middle;\n",
       "    }\n",
       "\n",
       "    .dataframe tbody tr th {\n",
       "        vertical-align: top;\n",
       "    }\n",
       "\n",
       "    .dataframe thead th {\n",
       "        text-align: right;\n",
       "    }\n",
       "</style>\n",
       "<table border=\"1\" class=\"dataframe\">\n",
       "  <thead>\n",
       "    <tr style=\"text-align: right;\">\n",
       "      <th></th>\n",
       "      <th>strike_price</th>\n",
       "      <th>best_bid</th>\n",
       "      <th>best_offer</th>\n",
       "      <th>date_ndiff</th>\n",
       "      <th>treasury_rate</th>\n",
       "      <th>closing_price</th>\n",
       "      <th>sigma_20</th>\n",
       "    </tr>\n",
       "  </thead>\n",
       "  <tbody>\n",
       "    <tr>\n",
       "      <th>1</th>\n",
       "      <td>615.0</td>\n",
       "      <td>5.375</td>\n",
       "      <td>5.750</td>\n",
       "      <td>47</td>\n",
       "      <td>5.17</td>\n",
       "      <td>624.22</td>\n",
       "      <td>0.007761</td>\n",
       "    </tr>\n",
       "    <tr>\n",
       "      <th>2</th>\n",
       "      <td>550.0</td>\n",
       "      <td>10.125</td>\n",
       "      <td>11.750</td>\n",
       "      <td>509</td>\n",
       "      <td>5.05</td>\n",
       "      <td>624.22</td>\n",
       "      <td>0.007761</td>\n",
       "    </tr>\n",
       "    <tr>\n",
       "      <th>3</th>\n",
       "      <td>610.0</td>\n",
       "      <td>9.500</td>\n",
       "      <td>10.000</td>\n",
       "      <td>145</td>\n",
       "      <td>5.12</td>\n",
       "      <td>624.22</td>\n",
       "      <td>0.007761</td>\n",
       "    </tr>\n",
       "    <tr>\n",
       "      <th>4</th>\n",
       "      <td>600.0</td>\n",
       "      <td>2.625</td>\n",
       "      <td>2.875</td>\n",
       "      <td>47</td>\n",
       "      <td>5.17</td>\n",
       "      <td>624.22</td>\n",
       "      <td>0.007761</td>\n",
       "    </tr>\n",
       "    <tr>\n",
       "      <th>5</th>\n",
       "      <td>560.0</td>\n",
       "      <td>0.375</td>\n",
       "      <td>0.625</td>\n",
       "      <td>47</td>\n",
       "      <td>5.17</td>\n",
       "      <td>624.22</td>\n",
       "      <td>0.007761</td>\n",
       "    </tr>\n",
       "  </tbody>\n",
       "</table>\n",
       "</div>"
      ],
      "text/plain": [
       "   strike_price  best_bid  best_offer  date_ndiff  treasury_rate  \\\n",
       "1         615.0     5.375       5.750          47           5.17   \n",
       "2         550.0    10.125      11.750         509           5.05   \n",
       "3         610.0     9.500      10.000         145           5.12   \n",
       "4         600.0     2.625       2.875          47           5.17   \n",
       "5         560.0     0.375       0.625          47           5.17   \n",
       "\n",
       "   closing_price  sigma_20  \n",
       "1         624.22  0.007761  \n",
       "2         624.22  0.007761  \n",
       "3         624.22  0.007761  \n",
       "4         624.22  0.007761  \n",
       "5         624.22  0.007761  "
      ]
     },
     "execution_count": 4,
     "metadata": {},
     "output_type": "execute_result"
    }
   ],
   "source": [
    "put_df.head()"
   ]
  },
  {
   "cell_type": "code",
   "execution_count": 11,
   "metadata": {},
   "outputs": [],
   "source": [
    "call_X_train, call_X_test, call_y_train, call_y_test = train_test_split(call_df.drop(['best_bid', 'best_offer'], axis=1),\n",
    "                                                                        call_df[['best_bid', 'best_offer']],\n",
    "                                                                        test_size=0.01, random_state=42)\n",
    "put_X_train, put_X_test, put_y_train, put_y_test = train_test_split(put_df.drop(['best_bid', 'best_offer'], axis=1),\n",
    "                                                                    put_df[['best_bid', 'best_offer']],\n",
    "                                                                    test_size=0.01, random_state=42)"
   ]
  },
  {
   "cell_type": "code",
   "execution_count": 12,
   "metadata": {},
   "outputs": [],
   "source": [
    "model = Sequential()\n",
    "model.add(Dense(n_units, input_dim=call_X_train.shape[1]))\n",
    "model.add(LeakyReLU())\n",
    "\n",
    "for _ in range(layers - 1):\n",
    "    model.add(Dense(n_units))\n",
    "    model.add(BatchNormalization())\n",
    "    model.add(LeakyReLU())\n",
    "\n",
    "model.add(Dense(2, activation='relu'))\n",
    "\n",
    "model.compile(loss='mse', optimizer=Adam())"
   ]
  },
  {
   "cell_type": "code",
   "execution_count": 13,
   "metadata": {},
   "outputs": [
    {
     "name": "stdout",
     "output_type": "stream",
     "text": [
      "_________________________________________________________________\n",
      "Layer (type)                 Output Shape              Param #   \n",
      "=================================================================\n",
      "dense_6 (Dense)              (None, 400)               2400      \n",
      "_________________________________________________________________\n",
      "leaky_re_lu_5 (LeakyReLU)    (None, 400)               0         \n",
      "_________________________________________________________________\n",
      "dense_7 (Dense)              (None, 400)               160400    \n",
      "_________________________________________________________________\n",
      "batch_normalization_4 (Batch (None, 400)               1600      \n",
      "_________________________________________________________________\n",
      "leaky_re_lu_6 (LeakyReLU)    (None, 400)               0         \n",
      "_________________________________________________________________\n",
      "dense_8 (Dense)              (None, 400)               160400    \n",
      "_________________________________________________________________\n",
      "batch_normalization_5 (Batch (None, 400)               1600      \n",
      "_________________________________________________________________\n",
      "leaky_re_lu_7 (LeakyReLU)    (None, 400)               0         \n",
      "_________________________________________________________________\n",
      "dense_9 (Dense)              (None, 400)               160400    \n",
      "_________________________________________________________________\n",
      "batch_normalization_6 (Batch (None, 400)               1600      \n",
      "_________________________________________________________________\n",
      "leaky_re_lu_8 (LeakyReLU)    (None, 400)               0         \n",
      "_________________________________________________________________\n",
      "dense_10 (Dense)             (None, 2)                 802       \n",
      "=================================================================\n",
      "Total params: 489,202\n",
      "Trainable params: 486,802\n",
      "Non-trainable params: 2,400\n",
      "_________________________________________________________________\n"
     ]
    }
   ],
   "source": [
    "model.summary()"
   ]
  },
  {
   "cell_type": "code",
   "execution_count": 14,
   "metadata": {},
   "outputs": [
    {
     "name": "stdout",
     "output_type": "stream",
     "text": [
      "Train on 5535888 samples, validate on 55919 samples\n",
      "Epoch 1/30\n",
      "5535888/5535888 [==============================] - 33s 6us/step - loss: 1904.2959 - val_loss: 278.5258\n",
      "Epoch 2/30\n",
      "5535888/5535888 [==============================] - 32s 6us/step - loss: 73.7861 - val_loss: 62.1540\n",
      "Epoch 3/30\n",
      "5535888/5535888 [==============================] - 32s 6us/step - loss: 67.5581 - val_loss: 65.4982\n",
      "Epoch 4/30\n",
      "5535888/5535888 [==============================] - 32s 6us/step - loss: 63.2395 - val_loss: 118.7442\n",
      "Epoch 5/30\n",
      "5535888/5535888 [==============================] - 33s 6us/step - loss: 61.1255 - val_loss: 556.4886\n",
      "Epoch 6/30\n",
      "5535888/5535888 [==============================] - 33s 6us/step - loss: 53.0201 - val_loss: 57.4530\n",
      "Epoch 7/30\n",
      "5535888/5535888 [==============================] - 33s 6us/step - loss: 48.8153 - val_loss: 64.2258\n",
      "Epoch 8/30\n",
      "5535888/5535888 [==============================] - 33s 6us/step - loss: 46.7322 - val_loss: 75.4384\n",
      "Epoch 9/30\n",
      "5535888/5535888 [==============================] - 33s 6us/step - loss: 46.0773 - val_loss: 39.1429\n",
      "Epoch 10/30\n",
      "5535888/5535888 [==============================] - 32s 6us/step - loss: 44.3212 - val_loss: 38.1327\n",
      "Epoch 11/30\n",
      "5535888/5535888 [==============================] - 33s 6us/step - loss: 40.0389 - val_loss: 173.0310\n",
      "Epoch 12/30\n",
      "5535888/5535888 [==============================] - 33s 6us/step - loss: 39.7769 - val_loss: 156.9281\n",
      "Epoch 13/30\n",
      "5535888/5535888 [==============================] - 32s 6us/step - loss: 36.4927 - val_loss: 71.6371\n",
      "Epoch 14/30\n",
      "5535888/5535888 [==============================] - 32s 6us/step - loss: 35.2539 - val_loss: 265.2632\n",
      "Epoch 15/30\n",
      "5535888/5535888 [==============================] - 33s 6us/step - loss: 33.7365 - val_loss: 230.8467\n",
      "Epoch 16/30\n",
      "5535888/5535888 [==============================] - 33s 6us/step - loss: 31.0785 - val_loss: 52.9014\n",
      "Epoch 17/30\n",
      "5535888/5535888 [==============================] - 33s 6us/step - loss: 31.1589 - val_loss: 75.1628\n",
      "Epoch 18/30\n",
      "5535888/5535888 [==============================] - 33s 6us/step - loss: 31.0529 - val_loss: 365.2293\n",
      "Epoch 19/30\n",
      "5535888/5535888 [==============================] - 32s 6us/step - loss: 30.0371 - val_loss: 40.8507\n",
      "Epoch 20/30\n",
      "5535888/5535888 [==============================] - 32s 6us/step - loss: 29.1548 - val_loss: 2828.2576\n",
      "Epoch 21/30\n",
      "5535888/5535888 [==============================] - 32s 6us/step - loss: 28.5355 - val_loss: 88.8544\n",
      "Epoch 22/30\n",
      "5535888/5535888 [==============================] - 32s 6us/step - loss: 27.3579 - val_loss: 128.7169\n",
      "Epoch 23/30\n",
      "5535888/5535888 [==============================] - 32s 6us/step - loss: 27.1009 - val_loss: 78.5489\n",
      "Epoch 24/30\n",
      "5535888/5535888 [==============================] - 32s 6us/step - loss: 26.9924 - val_loss: 145.5318\n",
      "Epoch 25/30\n",
      "5535888/5535888 [==============================] - 32s 6us/step - loss: 26.0979 - val_loss: 51.7843\n",
      "Epoch 26/30\n",
      "5535888/5535888 [==============================] - 32s 6us/step - loss: 25.2663 - val_loss: 571.6512\n",
      "Epoch 27/30\n",
      "5535888/5535888 [==============================] - 33s 6us/step - loss: 25.0652 - val_loss: 36.7424\n",
      "Epoch 28/30\n",
      "5535888/5535888 [==============================] - 33s 6us/step - loss: 24.0059 - val_loss: 45.0476\n",
      "Epoch 29/30\n",
      "5535888/5535888 [==============================] - 33s 6us/step - loss: 24.1489 - val_loss: 95.8006\n",
      "Epoch 30/30\n",
      "5535888/5535888 [==============================] - 33s 6us/step - loss: 24.3608 - val_loss: 178.1421\n"
     ]
    }
   ],
   "source": [
    "history = model.fit(put_X_train, put_y_train, \n",
    "                    batch_size=n_batch, epochs=30, \n",
    "                    validation_split = 0.01,\n",
    "                    callbacks=[TensorBoard()],\n",
    "                    verbose=1)"
   ]
  },
  {
   "cell_type": "code",
   "execution_count": 15,
   "metadata": {},
   "outputs": [
    {
     "name": "stdout",
     "output_type": "stream",
     "text": [
      "equilibrium mse 177.30706866136677\n",
      "spread mse 2.5870883658018213\n"
     ]
    }
   ],
   "source": [
    "model.save('mlp2-put30.h5')\n",
    "put_y_pred30 = model.predict(put_X_test)\n",
    "print('equilibrium mse', np.mean(np.square(np.mean(put_y_test.values, axis=1) - np.mean(put_y_pred30, axis=1))))\n",
    "print('spread mse', np.mean(np.square(np.diff(put_y_test.values, axis=1) - np.diff(put_y_pred30, axis=1))))"
   ]
  },
  {
   "cell_type": "code",
   "execution_count": 17,
   "metadata": {},
   "outputs": [
    {
     "name": "stdout",
     "output_type": "stream",
     "text": [
      "Train on 5535888 samples, validate on 55919 samples\n",
      "Epoch 1/10\n",
      "5535888/5535888 [==============================] - 34s 6us/step - loss: 17.3291 - val_loss: 16.3038\n",
      "Epoch 2/10\n",
      "5535888/5535888 [==============================] - 33s 6us/step - loss: 16.3431 - val_loss: 56.1457\n",
      "Epoch 3/10\n",
      "5535888/5535888 [==============================] - 33s 6us/step - loss: 16.8064 - val_loss: 71.7280\n",
      "Epoch 4/10\n",
      "5535888/5535888 [==============================] - 33s 6us/step - loss: 15.7891 - val_loss: 14.5634\n",
      "Epoch 5/10\n",
      "5535888/5535888 [==============================] - 33s 6us/step - loss: 15.9640 - val_loss: 11.4707\n",
      "Epoch 6/10\n",
      "5535888/5535888 [==============================] - 33s 6us/step - loss: 15.3785 - val_loss: 28.8213\n",
      "Epoch 7/10\n",
      "5535888/5535888 [==============================] - 33s 6us/step - loss: 15.2760 - val_loss: 16.7921\n",
      "Epoch 8/10\n",
      "5535888/5535888 [==============================] - 33s 6us/step - loss: 14.8330 - val_loss: 18.1610\n",
      "Epoch 9/10\n",
      "5535888/5535888 [==============================] - 33s 6us/step - loss: 14.6841 - val_loss: 14.6085\n",
      "Epoch 10/10\n",
      "5535888/5535888 [==============================] - 33s 6us/step - loss: 14.5358 - val_loss: 38.1563\n"
     ]
    }
   ],
   "source": [
    "model.compile(loss='mse', optimizer=Adam(lr=1e-4))\n",
    "history = model.fit(put_X_train, put_y_train, \n",
    "                    batch_size=n_batch, epochs=10, \n",
    "                    validation_split = 0.01,\n",
    "                    callbacks=[TensorBoard()],\n",
    "                    verbose=1)"
   ]
  },
  {
   "cell_type": "code",
   "execution_count": 18,
   "metadata": {},
   "outputs": [
    {
     "name": "stdout",
     "output_type": "stream",
     "text": [
      "equilibrium mse 38.818840572132245\n",
      "spread mse 2.1885908400178935\n"
     ]
    }
   ],
   "source": [
    "model.save('mlp2-put40.h5')\n",
    "put_y_pred40 = model.predict(put_X_test)\n",
    "print('equilibrium mse', np.mean(np.square(np.mean(put_y_test.values, axis=1) - np.mean(put_y_pred40, axis=1))))\n",
    "print('spread mse', np.mean(np.square(np.diff(put_y_test.values, axis=1) - np.diff(put_y_pred40, axis=1))))"
   ]
  },
  {
   "cell_type": "code",
   "execution_count": 19,
   "metadata": {},
   "outputs": [
    {
     "name": "stdout",
     "output_type": "stream",
     "text": [
      "Train on 5535888 samples, validate on 55919 samples\n",
      "Epoch 1/10\n",
      "5535888/5535888 [==============================] - 34s 6us/step - loss: 13.3413 - val_loss: 10.3290\n",
      "Epoch 2/10\n",
      "5535888/5535888 [==============================] - 33s 6us/step - loss: 13.4159 - val_loss: 11.1860\n",
      "Epoch 3/10\n",
      "5535888/5535888 [==============================] - 33s 6us/step - loss: 13.4054 - val_loss: 10.8448\n",
      "Epoch 4/10\n",
      "5535888/5535888 [==============================] - 33s 6us/step - loss: 13.4450 - val_loss: 9.3417\n",
      "Epoch 5/10\n",
      "5535888/5535888 [==============================] - 33s 6us/step - loss: 13.5304 - val_loss: 11.0239\n",
      "Epoch 6/10\n",
      "5535888/5535888 [==============================] - 33s 6us/step - loss: 13.4519 - val_loss: 9.6377\n",
      "Epoch 7/10\n",
      "5535888/5535888 [==============================] - 33s 6us/step - loss: 13.3981 - val_loss: 9.3533\n",
      "Epoch 8/10\n",
      "5535888/5535888 [==============================] - 33s 6us/step - loss: 13.3245 - val_loss: 9.1681\n",
      "Epoch 9/10\n",
      "5535888/5535888 [==============================] - 33s 6us/step - loss: 13.3976 - val_loss: 12.0895\n",
      "Epoch 10/10\n",
      "5535888/5535888 [==============================] - 33s 6us/step - loss: 13.2666 - val_loss: 9.4180\n"
     ]
    }
   ],
   "source": [
    "model.compile(loss='mse', optimizer=Adam(lr=1e-5))\n",
    "history = model.fit(put_X_train, put_y_train, \n",
    "                    batch_size=n_batch, epochs=10, \n",
    "                    validation_split = 0.01,\n",
    "                    callbacks=[TensorBoard()],\n",
    "                    verbose=1)"
   ]
  },
  {
   "cell_type": "code",
   "execution_count": 20,
   "metadata": {},
   "outputs": [
    {
     "name": "stdout",
     "output_type": "stream",
     "text": [
      "equilibrium mse 8.972609482242744\n",
      "spread mse 2.0515710888773926\n"
     ]
    }
   ],
   "source": [
    "model.save('mlp2-put50.h5')\n",
    "put_y_pred50 = model.predict(put_X_test)\n",
    "print('equilibrium mse', np.mean(np.square(np.mean(put_y_test.values, axis=1) - np.mean(put_y_pred50, axis=1))))\n",
    "print('spread mse', np.mean(np.square(np.diff(put_y_test.values, axis=1) - np.diff(put_y_pred50, axis=1))))"
   ]
  },
  {
   "cell_type": "code",
   "execution_count": 21,
   "metadata": {},
   "outputs": [
    {
     "name": "stdout",
     "output_type": "stream",
     "text": [
      "Train on 5535888 samples, validate on 55919 samples\n",
      "Epoch 1/10\n",
      "5535888/5535888 [==============================] - 34s 6us/step - loss: 13.1442 - val_loss: 9.1165\n",
      "Epoch 2/10\n",
      "5535888/5535888 [==============================] - 33s 6us/step - loss: 13.0221 - val_loss: 9.2415\n",
      "Epoch 3/10\n",
      "5535888/5535888 [==============================] - 33s 6us/step - loss: 13.0783 - val_loss: 9.2233\n",
      "Epoch 4/10\n",
      "5535888/5535888 [==============================] - 33s 6us/step - loss: 12.9758 - val_loss: 9.1416\n",
      "Epoch 5/10\n",
      "5535888/5535888 [==============================] - 33s 6us/step - loss: 12.9810 - val_loss: 9.2092\n",
      "Epoch 6/10\n",
      "5535888/5535888 [==============================] - 33s 6us/step - loss: 13.1095 - val_loss: 9.2073\n",
      "Epoch 7/10\n",
      "5535888/5535888 [==============================] - 33s 6us/step - loss: 13.2259 - val_loss: 9.0914\n",
      "Epoch 8/10\n",
      "5535888/5535888 [==============================] - 33s 6us/step - loss: 12.9989 - val_loss: 9.1251\n",
      "Epoch 9/10\n",
      "5535888/5535888 [==============================] - 33s 6us/step - loss: 13.0298 - val_loss: 9.1414\n",
      "Epoch 10/10\n",
      "5535888/5535888 [==============================] - 33s 6us/step - loss: 13.0992 - val_loss: 9.2205\n"
     ]
    }
   ],
   "source": [
    "model.compile(loss='mse', optimizer=Adam(lr=1e-6))\n",
    "history = model.fit(put_X_train, put_y_train, \n",
    "                    batch_size=n_batch, epochs=10, \n",
    "                    validation_split = 0.01,\n",
    "                    callbacks=[TensorBoard()],\n",
    "                    verbose=1)"
   ]
  },
  {
   "cell_type": "code",
   "execution_count": 22,
   "metadata": {},
   "outputs": [
    {
     "name": "stdout",
     "output_type": "stream",
     "text": [
      "equilibrium mse 8.838232424748972\n",
      "spread mse 2.0520345803224336\n"
     ]
    }
   ],
   "source": [
    "model.save('mlp2-put60.h5')\n",
    "put_y_pred60 = model.predict(put_X_test)\n",
    "print('equilibrium mse', np.mean(np.square(np.mean(put_y_test.values, axis=1) - np.mean(put_y_pred60, axis=1))))\n",
    "print('spread mse', np.mean(np.square(np.diff(put_y_test.values, axis=1) - np.diff(put_y_pred60, axis=1))))"
   ]
  },
  {
   "cell_type": "code",
   "execution_count": null,
   "metadata": {},
   "outputs": [],
   "source": []
  }
 ],
 "metadata": {
  "kernelspec": {
   "display_name": "Python 3",
   "language": "python",
   "name": "python3"
  },
  "language_info": {
   "codemirror_mode": {
    "name": "ipython",
    "version": 3
   },
   "file_extension": ".py",
   "mimetype": "text/x-python",
   "name": "python",
   "nbconvert_exporter": "python",
   "pygments_lexer": "ipython3",
   "version": "3.7.1"
  }
 },
 "nbformat": 4,
 "nbformat_minor": 2
}
