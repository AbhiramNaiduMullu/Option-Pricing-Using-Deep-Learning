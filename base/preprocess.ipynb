{
 "cells": [
  {
   "cell_type": "code",
   "execution_count": 8,
   "metadata": {},
   "outputs": [],
   "source": [
    "import numpy as np\n",
    "import pandas as pd\n",
    "from datetime import date"
   ]
  },
  {
   "cell_type": "code",
   "execution_count": 25,
   "metadata": {},
   "outputs": [],
   "source": [
    "options = pd.read_csv('data/options-better.csv')"
   ]
  },
  {
   "cell_type": "code",
   "execution_count": 26,
   "metadata": {},
   "outputs": [],
   "source": [
    "def date_diff(row):\n",
    "    start = str(row['date'])\n",
    "    end = str(row['exdate'])\n",
    "    s_year, s_month, s_day = start[:4], start[4:6], start[6:]\n",
    "    e_year, e_month, e_day = end[:4], end[4:6], end[6:]\n",
    "    return date(int(e_year), int(e_month), int(e_day)) - date(int(s_year), int(s_month), int(s_day))"
   ]
  },
  {
   "cell_type": "code",
   "execution_count": 27,
   "metadata": {},
   "outputs": [],
   "source": [
    "options['date_diff'] = options.apply(lambda row: date_diff(row), axis=1)"
   ]
  },
  {
   "cell_type": "code",
   "execution_count": 32,
   "metadata": {},
   "outputs": [],
   "source": [
    "def numeric_date(row):\n",
    "    return int(str(row['date_diff']).split()[0])"
   ]
  },
  {
   "cell_type": "code",
   "execution_count": 33,
   "metadata": {},
   "outputs": [],
   "source": [
    "options['date_ndiff'] = options.apply(lambda row: numeric_date(row), axis=1)"
   ]
  },
  {
   "cell_type": "code",
   "execution_count": 35,
   "metadata": {},
   "outputs": [],
   "source": [
    "options = options.drop('date_diff', axis=1)"
   ]
  },
  {
   "cell_type": "code",
   "execution_count": 37,
   "metadata": {},
   "outputs": [],
   "source": [
    "# options.to_csv('data/options-with-date.csv')"
   ]
  },
  {
   "cell_type": "code",
   "execution_count": 38,
   "metadata": {},
   "outputs": [
    {
     "data": {
      "text/html": [
       "<div>\n",
       "<style scoped>\n",
       "    .dataframe tbody tr th:only-of-type {\n",
       "        vertical-align: middle;\n",
       "    }\n",
       "\n",
       "    .dataframe tbody tr th {\n",
       "        vertical-align: top;\n",
       "    }\n",
       "\n",
       "    .dataframe thead th {\n",
       "        text-align: right;\n",
       "    }\n",
       "</style>\n",
       "<table border=\"1\" class=\"dataframe\">\n",
       "  <thead>\n",
       "    <tr style=\"text-align: right;\">\n",
       "      <th></th>\n",
       "      <th>date</th>\n",
       "      <th>exdate</th>\n",
       "      <th>cp_flag</th>\n",
       "      <th>strike_price</th>\n",
       "      <th>best_bid</th>\n",
       "      <th>best_offer</th>\n",
       "      <th>volume</th>\n",
       "      <th>open_interest</th>\n",
       "      <th>impl_volatility</th>\n",
       "      <th>date_ndiff</th>\n",
       "    </tr>\n",
       "  </thead>\n",
       "  <tbody>\n",
       "    <tr>\n",
       "      <th>0</th>\n",
       "      <td>19960104</td>\n",
       "      <td>19960316</td>\n",
       "      <td>C</td>\n",
       "      <td>600000</td>\n",
       "      <td>24.750</td>\n",
       "      <td>25.750</td>\n",
       "      <td>150</td>\n",
       "      <td>5633</td>\n",
       "      <td>0.110927</td>\n",
       "      <td>72</td>\n",
       "    </tr>\n",
       "    <tr>\n",
       "      <th>1</th>\n",
       "      <td>19960104</td>\n",
       "      <td>19960316</td>\n",
       "      <td>P</td>\n",
       "      <td>615000</td>\n",
       "      <td>10.125</td>\n",
       "      <td>10.875</td>\n",
       "      <td>156</td>\n",
       "      <td>8302</td>\n",
       "      <td>0.125890</td>\n",
       "      <td>72</td>\n",
       "    </tr>\n",
       "    <tr>\n",
       "      <th>2</th>\n",
       "      <td>19960104</td>\n",
       "      <td>19970621</td>\n",
       "      <td>P</td>\n",
       "      <td>550000</td>\n",
       "      <td>11.625</td>\n",
       "      <td>13.250</td>\n",
       "      <td>5</td>\n",
       "      <td>3282</td>\n",
       "      <td>0.159369</td>\n",
       "      <td>534</td>\n",
       "    </tr>\n",
       "    <tr>\n",
       "      <th>3</th>\n",
       "      <td>19960104</td>\n",
       "      <td>19960316</td>\n",
       "      <td>P</td>\n",
       "      <td>600000</td>\n",
       "      <td>6.000</td>\n",
       "      <td>6.500</td>\n",
       "      <td>3917</td>\n",
       "      <td>5728</td>\n",
       "      <td>0.136913</td>\n",
       "      <td>72</td>\n",
       "    </tr>\n",
       "    <tr>\n",
       "      <th>4</th>\n",
       "      <td>19960104</td>\n",
       "      <td>19960316</td>\n",
       "      <td>P</td>\n",
       "      <td>560000</td>\n",
       "      <td>1.750</td>\n",
       "      <td>2.000</td>\n",
       "      <td>3</td>\n",
       "      <td>2971</td>\n",
       "      <td>0.176965</td>\n",
       "      <td>72</td>\n",
       "    </tr>\n",
       "  </tbody>\n",
       "</table>\n",
       "</div>"
      ],
      "text/plain": [
       "       date    exdate cp_flag  strike_price  best_bid  best_offer  volume  \\\n",
       "0  19960104  19960316       C        600000    24.750      25.750     150   \n",
       "1  19960104  19960316       P        615000    10.125      10.875     156   \n",
       "2  19960104  19970621       P        550000    11.625      13.250       5   \n",
       "3  19960104  19960316       P        600000     6.000       6.500    3917   \n",
       "4  19960104  19960316       P        560000     1.750       2.000       3   \n",
       "\n",
       "   open_interest  impl_volatility  date_ndiff  \n",
       "0           5633         0.110927          72  \n",
       "1           8302         0.125890          72  \n",
       "2           3282         0.159369         534  \n",
       "3           5728         0.136913          72  \n",
       "4           2971         0.176965          72  "
      ]
     },
     "execution_count": 38,
     "metadata": {},
     "output_type": "execute_result"
    }
   ],
   "source": [
    "options.head()"
   ]
  },
  {
   "cell_type": "code",
   "execution_count": null,
   "metadata": {},
   "outputs": [],
   "source": []
  }
 ],
 "metadata": {
  "kernelspec": {
   "display_name": "Python 3",
   "language": "python",
   "name": "python3"
  },
  "language_info": {
   "codemirror_mode": {
    "name": "ipython",
    "version": 3
   },
   "file_extension": ".py",
   "mimetype": "text/x-python",
   "name": "python",
   "nbconvert_exporter": "python",
   "pygments_lexer": "ipython3",
   "version": "3.7.1"
  }
 },
 "nbformat": 4,
 "nbformat_minor": 2
}
