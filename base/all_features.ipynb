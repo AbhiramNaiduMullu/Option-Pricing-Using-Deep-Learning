{
 "cells": [
  {
   "cell_type": "code",
   "execution_count": 1,
   "metadata": {},
   "outputs": [],
   "source": [
    "import numpy as np\n",
    "import pandas as pd"
   ]
  },
  {
   "cell_type": "code",
   "execution_count": 25,
   "metadata": {},
   "outputs": [
    {
     "ename": "SyntaxError",
     "evalue": "invalid syntax (<ipython-input-25-a4d20256f439>, line 1)",
     "output_type": "error",
     "traceback": [
      "\u001b[1;36m  File \u001b[1;32m\"<ipython-input-25-a4d20256f439>\"\u001b[1;36m, line \u001b[1;32m1\u001b[0m\n\u001b[1;33m    head options-df-sigma.csv\u001b[0m\n\u001b[1;37m               ^\u001b[0m\n\u001b[1;31mSyntaxError\u001b[0m\u001b[1;31m:\u001b[0m invalid syntax\n"
     ]
    }
   ],
   "source": [
    "head options-df-sigma.csv"
   ]
  },
  {
   "cell_type": "code",
   "execution_count": null,
   "metadata": {},
   "outputs": [],
   "source": []
  },
  {
   "cell_type": "code",
   "execution_count": 2,
   "metadata": {},
   "outputs": [],
   "source": [
    "options = pd.read_csv('options-df.csv')"
   ]
  },
  {
   "cell_type": "code",
   "execution_count": 3,
   "metadata": {},
   "outputs": [],
   "source": [
    "underlying = pd.read_csv('daily-closing-prices.csv')"
   ]
  },
  {
   "cell_type": "code",
   "execution_count": 5,
   "metadata": {},
   "outputs": [
    {
     "name": "stderr",
     "output_type": "stream",
     "text": [
      "C:\\Users\\Alex Ke\\Anaconda3\\lib\\site-packages\\ipykernel_launcher.py:1: FutureWarning: Currently, 'apply' passes the values as ndarrays to the applied function. In the future, this will change to passing it as Series objects. You need to specify 'raw=True' to keep the current behaviour, and you can pass 'raw=False' to silence this warning\n",
      "  \"\"\"Entry point for launching an IPython kernel.\n"
     ]
    }
   ],
   "source": [
    "underlying['sigma_20'] = underlying.close.rolling(20).apply(lambda x: (np.diff(x) / x[:-1]).std())"
   ]
  },
  {
   "cell_type": "code",
   "execution_count": 6,
   "metadata": {},
   "outputs": [
    {
     "data": {
      "text/html": [
       "<div>\n",
       "<style scoped>\n",
       "    .dataframe tbody tr th:only-of-type {\n",
       "        vertical-align: middle;\n",
       "    }\n",
       "\n",
       "    .dataframe tbody tr th {\n",
       "        vertical-align: top;\n",
       "    }\n",
       "\n",
       "    .dataframe thead th {\n",
       "        text-align: right;\n",
       "    }\n",
       "</style>\n",
       "<table border=\"1\" class=\"dataframe\">\n",
       "  <thead>\n",
       "    <tr style=\"text-align: right;\">\n",
       "      <th></th>\n",
       "      <th>date</th>\n",
       "      <th>close</th>\n",
       "      <th>sigma_20</th>\n",
       "    </tr>\n",
       "  </thead>\n",
       "  <tbody>\n",
       "    <tr>\n",
       "      <th>0</th>\n",
       "      <td>19960102</td>\n",
       "      <td>620.73</td>\n",
       "      <td>NaN</td>\n",
       "    </tr>\n",
       "    <tr>\n",
       "      <th>1</th>\n",
       "      <td>19960103</td>\n",
       "      <td>621.32</td>\n",
       "      <td>NaN</td>\n",
       "    </tr>\n",
       "    <tr>\n",
       "      <th>2</th>\n",
       "      <td>19960104</td>\n",
       "      <td>617.70</td>\n",
       "      <td>NaN</td>\n",
       "    </tr>\n",
       "    <tr>\n",
       "      <th>3</th>\n",
       "      <td>19960105</td>\n",
       "      <td>616.71</td>\n",
       "      <td>NaN</td>\n",
       "    </tr>\n",
       "    <tr>\n",
       "      <th>4</th>\n",
       "      <td>19960108</td>\n",
       "      <td>618.46</td>\n",
       "      <td>NaN</td>\n",
       "    </tr>\n",
       "  </tbody>\n",
       "</table>\n",
       "</div>"
      ],
      "text/plain": [
       "       date   close  sigma_20\n",
       "0  19960102  620.73       NaN\n",
       "1  19960103  621.32       NaN\n",
       "2  19960104  617.70       NaN\n",
       "3  19960105  616.71       NaN\n",
       "4  19960108  618.46       NaN"
      ]
     },
     "execution_count": 6,
     "metadata": {},
     "output_type": "execute_result"
    }
   ],
   "source": [
    "underlying.head()"
   ]
  },
  {
   "cell_type": "code",
   "execution_count": 7,
   "metadata": {},
   "outputs": [
    {
     "data": {
      "text/html": [
       "<div>\n",
       "<style scoped>\n",
       "    .dataframe tbody tr th:only-of-type {\n",
       "        vertical-align: middle;\n",
       "    }\n",
       "\n",
       "    .dataframe tbody tr th {\n",
       "        vertical-align: top;\n",
       "    }\n",
       "\n",
       "    .dataframe thead th {\n",
       "        text-align: right;\n",
       "    }\n",
       "</style>\n",
       "<table border=\"1\" class=\"dataframe\">\n",
       "  <thead>\n",
       "    <tr style=\"text-align: right;\">\n",
       "      <th></th>\n",
       "      <th>date</th>\n",
       "      <th>exdate</th>\n",
       "      <th>cp_flag</th>\n",
       "      <th>strike_price</th>\n",
       "      <th>best_bid</th>\n",
       "      <th>best_offer</th>\n",
       "      <th>volume</th>\n",
       "      <th>open_interest</th>\n",
       "      <th>impl_volatility</th>\n",
       "      <th>date_ndiff</th>\n",
       "      <th>treasury_rate</th>\n",
       "      <th>closing_price</th>\n",
       "    </tr>\n",
       "  </thead>\n",
       "  <tbody>\n",
       "    <tr>\n",
       "      <th>0</th>\n",
       "      <td>19960104</td>\n",
       "      <td>19960316</td>\n",
       "      <td>C</td>\n",
       "      <td>600000</td>\n",
       "      <td>24.750</td>\n",
       "      <td>25.750</td>\n",
       "      <td>150</td>\n",
       "      <td>5633</td>\n",
       "      <td>0.110927</td>\n",
       "      <td>72</td>\n",
       "      <td>5.19</td>\n",
       "      <td>617.7</td>\n",
       "    </tr>\n",
       "    <tr>\n",
       "      <th>1</th>\n",
       "      <td>19960104</td>\n",
       "      <td>19960316</td>\n",
       "      <td>P</td>\n",
       "      <td>615000</td>\n",
       "      <td>10.125</td>\n",
       "      <td>10.875</td>\n",
       "      <td>156</td>\n",
       "      <td>8302</td>\n",
       "      <td>0.125890</td>\n",
       "      <td>72</td>\n",
       "      <td>5.19</td>\n",
       "      <td>617.7</td>\n",
       "    </tr>\n",
       "    <tr>\n",
       "      <th>2</th>\n",
       "      <td>19960104</td>\n",
       "      <td>19970621</td>\n",
       "      <td>P</td>\n",
       "      <td>550000</td>\n",
       "      <td>11.625</td>\n",
       "      <td>13.250</td>\n",
       "      <td>5</td>\n",
       "      <td>3282</td>\n",
       "      <td>0.159369</td>\n",
       "      <td>534</td>\n",
       "      <td>5.19</td>\n",
       "      <td>617.7</td>\n",
       "    </tr>\n",
       "    <tr>\n",
       "      <th>3</th>\n",
       "      <td>19960104</td>\n",
       "      <td>19960316</td>\n",
       "      <td>P</td>\n",
       "      <td>600000</td>\n",
       "      <td>6.000</td>\n",
       "      <td>6.500</td>\n",
       "      <td>3917</td>\n",
       "      <td>5728</td>\n",
       "      <td>0.136913</td>\n",
       "      <td>72</td>\n",
       "      <td>5.19</td>\n",
       "      <td>617.7</td>\n",
       "    </tr>\n",
       "    <tr>\n",
       "      <th>4</th>\n",
       "      <td>19960104</td>\n",
       "      <td>19960316</td>\n",
       "      <td>P</td>\n",
       "      <td>560000</td>\n",
       "      <td>1.750</td>\n",
       "      <td>2.000</td>\n",
       "      <td>3</td>\n",
       "      <td>2971</td>\n",
       "      <td>0.176965</td>\n",
       "      <td>72</td>\n",
       "      <td>5.19</td>\n",
       "      <td>617.7</td>\n",
       "    </tr>\n",
       "  </tbody>\n",
       "</table>\n",
       "</div>"
      ],
      "text/plain": [
       "       date    exdate cp_flag  strike_price  best_bid  best_offer  volume  \\\n",
       "0  19960104  19960316       C        600000    24.750      25.750     150   \n",
       "1  19960104  19960316       P        615000    10.125      10.875     156   \n",
       "2  19960104  19970621       P        550000    11.625      13.250       5   \n",
       "3  19960104  19960316       P        600000     6.000       6.500    3917   \n",
       "4  19960104  19960316       P        560000     1.750       2.000       3   \n",
       "\n",
       "   open_interest  impl_volatility  date_ndiff  treasury_rate  closing_price  \n",
       "0           5633         0.110927          72           5.19          617.7  \n",
       "1           8302         0.125890          72           5.19          617.7  \n",
       "2           3282         0.159369         534           5.19          617.7  \n",
       "3           5728         0.136913          72           5.19          617.7  \n",
       "4           2971         0.176965          72           5.19          617.7  "
      ]
     },
     "execution_count": 7,
     "metadata": {},
     "output_type": "execute_result"
    }
   ],
   "source": [
    "options.head()"
   ]
  },
  {
   "cell_type": "code",
   "execution_count": 16,
   "metadata": {},
   "outputs": [],
   "source": [
    "joined = options.join(underlying.set_index('date').sigma_20, on='date')"
   ]
  },
  {
   "cell_type": "code",
   "execution_count": 20,
   "metadata": {},
   "outputs": [],
   "source": [
    "joined = joined.dropna()"
   ]
  },
  {
   "cell_type": "code",
   "execution_count": 29,
   "metadata": {},
   "outputs": [],
   "source": [
    "joined.to_csv('options-df-sigma.csv', index=False)"
   ]
  }
 ],
 "metadata": {
  "kernelspec": {
   "display_name": "Python 3",
   "language": "python",
   "name": "python3"
  },
  "language_info": {
   "codemirror_mode": {
    "name": "ipython",
    "version": 3
   },
   "file_extension": ".py",
   "mimetype": "text/x-python",
   "name": "python",
   "nbconvert_exporter": "python",
   "pygments_lexer": "ipython3",
   "version": "3.7.1"
  }
 },
 "nbformat": 4,
 "nbformat_minor": 2
}
