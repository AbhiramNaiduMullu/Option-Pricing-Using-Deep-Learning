{
 "cells": [
  {
   "cell_type": "code",
   "execution_count": 15,
   "metadata": {},
   "outputs": [],
   "source": [
    "import numpy as np\n",
    "import pandas as pd\n",
    "from sklearn.linear_model import LinearRegression\n",
    "from sklearn.model_selection import train_test_split, cross_val_score"
   ]
  },
  {
   "cell_type": "code",
   "execution_count": 2,
   "metadata": {},
   "outputs": [],
   "source": [
    "df = pd.read_csv('data/options-df.csv').drop(['impl_volatility', 'date', 'exdate'], axis=1)"
   ]
  },
  {
   "cell_type": "code",
   "execution_count": 3,
   "metadata": {},
   "outputs": [],
   "source": [
    "df = df.dropna(axis=0)"
   ]
  },
  {
   "cell_type": "code",
   "execution_count": 4,
   "metadata": {},
   "outputs": [],
   "source": [
    "call_df = df[df.cp_flag == 'C'].drop(['cp_flag'], axis=1)\n",
    "put_df = df[df.cp_flag == 'P'].drop(['cp_flag'], axis=1)"
   ]
  },
  {
   "cell_type": "code",
   "execution_count": 5,
   "metadata": {},
   "outputs": [],
   "source": [
    "call_df_X = call_df.drop(['best_bid', 'best_offer'], axis=1)\n",
    "call_df_y = call_df[['best_bid', 'best_offer']]"
   ]
  },
  {
   "cell_type": "code",
   "execution_count": 30,
   "metadata": {},
   "outputs": [],
   "source": [
    "put_df_X = put_df.drop(['best_bid', 'best_offer'], axis=1)\n",
    "put_df_y = put_df[['best_bid', 'best_offer']]"
   ]
  },
  {
   "cell_type": "code",
   "execution_count": 6,
   "metadata": {},
   "outputs": [],
   "source": [
    "cdf_X_not_test, cdf_X_test, cdf_y_not_test, cdf_y_test = train_test_split(call_df_X, call_df_y, test_size=.01, random_state=42)"
   ]
  },
  {
   "cell_type": "code",
   "execution_count": 31,
   "metadata": {},
   "outputs": [],
   "source": [
    "pdf_X_not_test, pdf_X_test, pdf_y_not_test, pdf_y_test = train_test_split(put_df_X, put_df_y, test_size=.01, random_state=42)"
   ]
  },
  {
   "cell_type": "code",
   "execution_count": 56,
   "metadata": {},
   "outputs": [
    {
     "data": {
      "text/plain": [
       "0.9198235388534672"
      ]
     },
     "execution_count": 56,
     "metadata": {},
     "output_type": "execute_result"
    }
   ],
   "source": [
    "reg = LinearRegression().fit(cdf_X_not_test, cdf_y_not_test.best_offer)\n",
    "reg.score(cdf_X_not_test, cdf_y_not_test.best_offer)"
   ]
  },
  {
   "cell_type": "code",
   "execution_count": 57,
   "metadata": {},
   "outputs": [
    {
     "name": "stdout",
     "output_type": "stream",
     "text": [
      "101.68294827673952\n"
     ]
    }
   ],
   "source": [
    "c_bid_ask_avg = np.mean([cdf_y_test.best_offer, cdf_y_test.best_bid],axis=0)\n",
    "c_pred = reg.predict(cdf_X_test)\n",
    "\n",
    "print(np.sqrt(np.sum(np.square(c_bid_ask_avg - c_pred))/len(c_pred)))"
   ]
  },
  {
   "cell_type": "code",
   "execution_count": 52,
   "metadata": {},
   "outputs": [
    {
     "data": {
      "text/plain": [
       "('median error', -30.50878313576095)"
      ]
     },
     "execution_count": 52,
     "metadata": {},
     "output_type": "execute_result"
    }
   ],
   "source": [
    "'median error', np.median(c_bid_ask_avg - c_pred)"
   ]
  },
  {
   "cell_type": "code",
   "execution_count": 53,
   "metadata": {},
   "outputs": [
    {
     "data": {
      "text/plain": [
       "('avg abs err', 67.47617424914898)"
      ]
     },
     "execution_count": 53,
     "metadata": {},
     "output_type": "execute_result"
    }
   ],
   "source": [
    "'avg abs err', np.mean(np.abs(c_bid_ask_avg - c_pred))"
   ]
  },
  {
   "cell_type": "code",
   "execution_count": 55,
   "metadata": {},
   "outputs": [
    {
     "data": {
      "text/plain": [
       "('median abs err', 54.03964837946462)"
      ]
     },
     "execution_count": 55,
     "metadata": {},
     "output_type": "execute_result"
    }
   ],
   "source": [
    "'median abs err', np.median(np.abs(c_bid_ask_avg - c_pred))"
   ]
  },
  {
   "cell_type": "code",
   "execution_count": 36,
   "metadata": {},
   "outputs": [
    {
     "data": {
      "text/plain": [
       "('mean squared error', 496.8891285217702)"
      ]
     },
     "execution_count": 36,
     "metadata": {},
     "output_type": "execute_result"
    }
   ],
   "source": [
    "'mean squared error', (np.sum(np.square(np.mean([cdf_y_test.best_bid, cdf_y_test.best_offer], axis=0) - reg.predict(cdf_X_test))) / cdf_y_test.shape[0])  ** .5"
   ]
  },
  {
   "cell_type": "code",
   "execution_count": 37,
   "metadata": {},
   "outputs": [
    {
     "data": {
      "text/plain": [
       "array([-537.6081928 ,   30.43874888, -122.59179962, ..., -268.02538337,\n",
       "       -363.32427168,  -94.70476171])"
      ]
     },
     "execution_count": 37,
     "metadata": {},
     "output_type": "execute_result"
    }
   ],
   "source": [
    "bid_ask_avg = np.mean([cdf_y_test.best_bid, cdf_y_test.best_offer], axis=0)\n",
    "bid_ask_avg - reg.predict(cdf_X_test)"
   ]
  },
  {
   "cell_type": "code",
   "execution_count": 38,
   "metadata": {},
   "outputs": [
    {
     "data": {
      "text/plain": [
       "array([538.6081928 , 135.26125112, 150.04179962, ..., 268.27538337,\n",
       "       363.97427168, 171.30476171])"
      ]
     },
     "execution_count": 38,
     "metadata": {},
     "output_type": "execute_result"
    }
   ],
   "source": [
    "reg.predict(cdf_X_test)"
   ]
  },
  {
   "cell_type": "code",
   "execution_count": 29,
   "metadata": {},
   "outputs": [
    {
     "data": {
      "text/plain": [
       "('median abs. deviation', 0.3279013921641674)"
      ]
     },
     "execution_count": 29,
     "metadata": {},
     "output_type": "execute_result"
    }
   ],
   "source": [
    "'median abs. deviation', np.median(np.abs(np.mean([cdf_y_test.best_bid, cdf_y_test.best_offer], axis=0) - reg.predict(cdf_X_test)) / np.mean([cdf_y_test.best_bid, cdf_y_test.best_offer], axis=0))"
   ]
  },
  {
   "cell_type": "code",
   "execution_count": 22,
   "metadata": {},
   "outputs": [
    {
     "data": {
      "text/plain": [
       "(12268772, 9)"
      ]
     },
     "execution_count": 22,
     "metadata": {},
     "output_type": "execute_result"
    }
   ],
   "source": [
    "df.shape"
   ]
  },
  {
   "cell_type": "code",
   "execution_count": 11,
   "metadata": {},
   "outputs": [
    {
     "data": {
      "text/html": [
       "<div>\n",
       "<style scoped>\n",
       "    .dataframe tbody tr th:only-of-type {\n",
       "        vertical-align: middle;\n",
       "    }\n",
       "\n",
       "    .dataframe tbody tr th {\n",
       "        vertical-align: top;\n",
       "    }\n",
       "\n",
       "    .dataframe thead th {\n",
       "        text-align: right;\n",
       "    }\n",
       "</style>\n",
       "<table border=\"1\" class=\"dataframe\">\n",
       "  <thead>\n",
       "    <tr style=\"text-align: right;\">\n",
       "      <th></th>\n",
       "      <th>strike_price</th>\n",
       "      <th>volume</th>\n",
       "      <th>open_interest</th>\n",
       "      <th>date_ndiff</th>\n",
       "      <th>treasury_rate</th>\n",
       "      <th>closing_price</th>\n",
       "    </tr>\n",
       "  </thead>\n",
       "  <tbody>\n",
       "    <tr>\n",
       "      <th>624733</th>\n",
       "      <td>1200000</td>\n",
       "      <td>0</td>\n",
       "      <td>4897</td>\n",
       "      <td>544</td>\n",
       "      <td>3.48</td>\n",
       "      <td>1218.60</td>\n",
       "    </tr>\n",
       "    <tr>\n",
       "      <th>11399096</th>\n",
       "      <td>2675000</td>\n",
       "      <td>0</td>\n",
       "      <td>0</td>\n",
       "      <td>26</td>\n",
       "      <td>0.96</td>\n",
       "      <td>2457.59</td>\n",
       "    </tr>\n",
       "    <tr>\n",
       "      <th>5289642</th>\n",
       "      <td>1750000</td>\n",
       "      <td>0</td>\n",
       "      <td>13609</td>\n",
       "      <td>187</td>\n",
       "      <td>0.07</td>\n",
       "      <td>1937.78</td>\n",
       "    </tr>\n",
       "    <tr>\n",
       "      <th>4436852</th>\n",
       "      <td>1710000</td>\n",
       "      <td>3279</td>\n",
       "      <td>5164</td>\n",
       "      <td>47</td>\n",
       "      <td>0.05</td>\n",
       "      <td>1707.14</td>\n",
       "    </tr>\n",
       "    <tr>\n",
       "      <th>4092993</th>\n",
       "      <td>300000</td>\n",
       "      <td>0</td>\n",
       "      <td>0</td>\n",
       "      <td>52</td>\n",
       "      <td>0.11</td>\n",
       "      <td>1515.99</td>\n",
       "    </tr>\n",
       "  </tbody>\n",
       "</table>\n",
       "</div>"
      ],
      "text/plain": [
       "          strike_price  volume  open_interest  date_ndiff  treasury_rate  \\\n",
       "624733         1200000       0           4897         544           3.48   \n",
       "11399096       2675000       0              0          26           0.96   \n",
       "5289642        1750000       0          13609         187           0.07   \n",
       "4436852        1710000    3279           5164          47           0.05   \n",
       "4092993         300000       0              0          52           0.11   \n",
       "\n",
       "          closing_price  \n",
       "624733          1218.60  \n",
       "11399096        2457.59  \n",
       "5289642         1937.78  \n",
       "4436852         1707.14  \n",
       "4092993         1515.99  "
      ]
     },
     "execution_count": 11,
     "metadata": {},
     "output_type": "execute_result"
    }
   ],
   "source": [
    "cdf_X_not_test.head()"
   ]
  },
  {
   "cell_type": "code",
   "execution_count": 12,
   "metadata": {
    "scrolled": true
   },
   "outputs": [
    {
     "data": {
      "text/plain": [
       "0.9193505298574914"
      ]
     },
     "execution_count": 12,
     "metadata": {},
     "output_type": "execute_result"
    }
   ],
   "source": [
    "reg.score(cdf_X_test, cdf_y_test.best_offer)"
   ]
  },
  {
   "cell_type": "code",
   "execution_count": 58,
   "metadata": {},
   "outputs": [],
   "source": [
    "# calls"
   ]
  },
  {
   "cell_type": "code",
   "execution_count": 63,
   "metadata": {},
   "outputs": [],
   "source": [
    "diff = (c_bid_ask_avg-c_pred)/c_bid_ask_avg"
   ]
  },
  {
   "cell_type": "code",
   "execution_count": 64,
   "metadata": {},
   "outputs": [
    {
     "name": "stdout",
     "output_type": "stream",
     "text": [
      "rmse percent 130691.03209675869\n",
      "med err percent -13.569585039994724\n",
      "average abs err percent 19175.436968720674\n",
      "med abs err percent 32.79013921641674\n"
     ]
    }
   ],
   "source": [
    "print('rmse percent', np.sqrt(np.mean(np.square(diff))) * 100)\n",
    "print('med err percent', np.median(diff) * 100)\n",
    "print('average abs err percent', np.mean(np.abs(diff))*100)\n",
    "print('med abs err percent', np.median(np.abs(diff))*100)"
   ]
  },
  {
   "cell_type": "code",
   "execution_count": 62,
   "metadata": {},
   "outputs": [],
   "source": [
    "reg = LinearRegression().fit(pdf_X_not_test, pdf_y_not_test.best_offer)"
   ]
  },
  {
   "cell_type": "code",
   "execution_count": 65,
   "metadata": {},
   "outputs": [],
   "source": [
    "p_bid_ask_avg = np.mean([pdf_y_test.best_offer, pdf_y_test.best_bid],axis=0)\n",
    "p_pred = reg.predict(pdf_X_test)\n",
    "diff = (p_bid_ask_avg-p_pred)/p_bid_ask_avg"
   ]
  },
  {
   "cell_type": "code",
   "execution_count": 66,
   "metadata": {},
   "outputs": [
    {
     "name": "stdout",
     "output_type": "stream",
     "text": [
      "rmse percent 109770.69415503081\n",
      "med err percent -94.77322167948063\n",
      "average abs err percent 26497.227195500305\n",
      "med abs err percent 414.0021635057799\n"
     ]
    }
   ],
   "source": [
    "print('rmse percent', np.sqrt(np.mean(np.square(diff))) * 100)\n",
    "print('med err percent', np.median(diff) * 100)\n",
    "print('average abs err percent', np.mean(np.abs(diff))*100)\n",
    "print('med abs err percent', np.median(np.abs(diff))*100)"
   ]
  },
  {
   "cell_type": "code",
   "execution_count": null,
   "metadata": {},
   "outputs": [],
   "source": []
  }
 ],
 "metadata": {
  "kernelspec": {
   "display_name": "Python 3",
   "language": "python",
   "name": "python3"
  },
  "language_info": {
   "codemirror_mode": {
    "name": "ipython",
    "version": 3
   },
   "file_extension": ".py",
   "mimetype": "text/x-python",
   "name": "python",
   "nbconvert_exporter": "python",
   "pygments_lexer": "ipython3",
   "version": "3.7.1"
  }
 },
 "nbformat": 4,
 "nbformat_minor": 2
}
