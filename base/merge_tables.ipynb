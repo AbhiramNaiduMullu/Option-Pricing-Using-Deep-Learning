{
 "cells": [
  {
   "cell_type": "code",
   "execution_count": 1,
   "metadata": {},
   "outputs": [],
   "source": [
    "import json\n",
    "import pandas as pd"
   ]
  },
  {
   "cell_type": "code",
   "execution_count": 15,
   "metadata": {},
   "outputs": [
    {
     "name": "stdout",
     "output_type": "stream",
     "text": [
      "dailystock-pruned.csv  options-better.csv     options_brief.csv\r\n",
      "dailystock.csv         options-with-date.csv  treasury-better.csv\r\n",
      "date-to-closing.json   options.csv            treasury.csv\r\n"
     ]
    }
   ],
   "source": [
    "ls data"
   ]
  },
  {
   "cell_type": "code",
   "execution_count": 12,
   "metadata": {},
   "outputs": [],
   "source": [
    "treasury = pd.read_csv('data/treasury-better.csv')\n",
    "with open('data/date-to-closing.json') as f:\n",
    "    date_to_closing = {int(k): v for k, v in json.load(f).items()}"
   ]
  },
  {
   "cell_type": "code",
   "execution_count": 17,
   "metadata": {},
   "outputs": [],
   "source": [
    "options = pd.read_csv('data/options-with-date.csv')"
   ]
  },
  {
   "cell_type": "code",
   "execution_count": 27,
   "metadata": {},
   "outputs": [],
   "source": [
    "dates_in_options = set(options.date.values)"
   ]
  },
  {
   "cell_type": "code",
   "execution_count": 29,
   "metadata": {},
   "outputs": [],
   "source": [
    "assert not dates_in_options - set(date_to_closing.keys())"
   ]
  },
  {
   "cell_type": "code",
   "execution_count": 32,
   "metadata": {},
   "outputs": [],
   "source": [
    "not_in_treasury = dates_in_options - set(treasury.date.values)"
   ]
  },
  {
   "cell_type": "code",
   "execution_count": 54,
   "metadata": {},
   "outputs": [],
   "source": [
    "date_to_treasury_vals = {}\n",
    "for idx, row in treasury.iterrows():\n",
    "    d = dict(row)\n",
    "    date_to_treasury_vals[int(d['date'])] = d\n",
    "    del date_to_treasury_vals[int(d['date'])]['date']"
   ]
  },
  {
   "cell_type": "code",
   "execution_count": 56,
   "metadata": {},
   "outputs": [],
   "source": [
    "# date_to_treasury_vals"
   ]
  },
  {
   "cell_type": "code",
   "execution_count": 43,
   "metadata": {},
   "outputs": [
    {
     "data": {
      "text/plain": [
       "96613"
      ]
     },
     "execution_count": 43,
     "metadata": {},
     "output_type": "execute_result"
    }
   ],
   "source": [
    "d = dict(options.date.value_counts())\n",
    "sum(d[x] for x in not_in_treasury)"
   ]
  },
  {
   "cell_type": "code",
   "execution_count": 59,
   "metadata": {},
   "outputs": [],
   "source": [
    "treasury_dates = set(treasury.date.values)\n",
    "modified_options = options[options.date.isin(treasury_dates)]"
   ]
  },
  {
   "cell_type": "code",
   "execution_count": 87,
   "metadata": {},
   "outputs": [],
   "source": [
    "def get_treasury_rate(row):\n",
    "    date = row.date\n",
    "    dur = row.date_ndiff\n",
    "    if dur <= 45:\n",
    "        select = '1MO'\n",
    "    elif dur <= 75:\n",
    "        select = '2MO'\n",
    "    elif dur <= 135:\n",
    "        select = '3MO'\n",
    "    elif dur <= 270:\n",
    "        select = '6MO'\n",
    "    elif dur <= 547:\n",
    "        select = '1YR'\n",
    "    elif dur <= 912:\n",
    "        select = '2YR'\n",
    "    elif dur <= 1460:\n",
    "        select = '3YR'\n",
    "    elif dur <= 2190:\n",
    "        select = '5YR'\n",
    "    elif dur <= 3102:\n",
    "        select = '7YR'\n",
    "    elif dur <= 3975:\n",
    "        select = '10YR'\n",
    "    elif dur <= 6625:\n",
    "        select = '20YR'\n",
    "    else:\n",
    "        select = '30YR'\n",
    "    curr = date_to_treasury_vals[date][select]\n",
    "    return curr if curr >= 0 else date_to_treasury_vals[date]['3MO']"
   ]
  },
  {
   "cell_type": "code",
   "execution_count": 88,
   "metadata": {},
   "outputs": [
    {
     "name": "stderr",
     "output_type": "stream",
     "text": [
      "/Users/ycm/miniconda3/lib/python3.7/site-packages/ipykernel_launcher.py:1: SettingWithCopyWarning: \n",
      "A value is trying to be set on a copy of a slice from a DataFrame.\n",
      "Try using .loc[row_indexer,col_indexer] = value instead\n",
      "\n",
      "See the caveats in the documentation: http://pandas.pydata.org/pandas-docs/stable/indexing.html#indexing-view-versus-copy\n",
      "  \"\"\"Entry point for launching an IPython kernel.\n"
     ]
    }
   ],
   "source": [
    "modified_options['treasury_rate'] = modified_options.apply(lambda row: get_treasury_rate(row), axis=1)"
   ]
  },
  {
   "cell_type": "code",
   "execution_count": 96,
   "metadata": {},
   "outputs": [
    {
     "name": "stderr",
     "output_type": "stream",
     "text": [
      "/Users/ycm/miniconda3/lib/python3.7/site-packages/ipykernel_launcher.py:1: SettingWithCopyWarning: \n",
      "A value is trying to be set on a copy of a slice from a DataFrame.\n",
      "Try using .loc[row_indexer,col_indexer] = value instead\n",
      "\n",
      "See the caveats in the documentation: http://pandas.pydata.org/pandas-docs/stable/indexing.html#indexing-view-versus-copy\n",
      "  \"\"\"Entry point for launching an IPython kernel.\n"
     ]
    }
   ],
   "source": [
    "modified_options['closing_price'] = modified_options.apply(lambda row: date_to_closing[row.date], axis=1)"
   ]
  },
  {
   "cell_type": "code",
   "execution_count": 98,
   "metadata": {},
   "outputs": [],
   "source": [
    "modified_options.to_csv('data/options-df.csv', index=None)"
   ]
  },
  {
   "cell_type": "code",
   "execution_count": null,
   "metadata": {},
   "outputs": [],
   "source": []
  },
  {
   "cell_type": "code",
   "execution_count": null,
   "metadata": {},
   "outputs": [],
   "source": []
  }
 ],
 "metadata": {
  "kernelspec": {
   "display_name": "Python 3",
   "language": "python",
   "name": "python3"
  },
  "language_info": {
   "codemirror_mode": {
    "name": "ipython",
    "version": 3
   },
   "file_extension": ".py",
   "mimetype": "text/x-python",
   "name": "python",
   "nbconvert_exporter": "python",
   "pygments_lexer": "ipython3",
   "version": "3.7.1"
  }
 },
 "nbformat": 4,
 "nbformat_minor": 2
}
