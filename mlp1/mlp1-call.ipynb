{
 "cells": [
  {
   "cell_type": "code",
   "execution_count": 2,
   "metadata": {},
   "outputs": [
    {
     "name": "stderr",
     "output_type": "stream",
     "text": [
      "Using TensorFlow backend.\n"
     ]
    }
   ],
   "source": [
    "from keras.models import Sequential\n",
    "from keras.layers import Dense, Activation, LeakyReLU, BatchNormalization\n",
    "from keras import backend\n",
    "from keras.callbacks import TensorBoard\n",
    "from keras.optimizers import Adam\n",
    "import pandas as pd\n",
    "import numpy as np\n",
    "from sklearn.model_selection import train_test_split"
   ]
  },
  {
   "cell_type": "code",
   "execution_count": 3,
   "metadata": {},
   "outputs": [],
   "source": [
    "# Hyperparams\n",
    "n_units = 400\n",
    "layers = 4\n",
    "n_batch = 4096\n",
    "n_epochs = 10"
   ]
  },
  {
   "cell_type": "code",
   "execution_count": 4,
   "metadata": {},
   "outputs": [],
   "source": [
    "df = pd.read_csv('../options-df-sigma.csv')\n",
    "df = df.dropna(axis=0)\n",
    "df = df.drop(columns=['date', 'exdate', 'impl_volatility', 'volume', 'open_interest'])\n",
    "df.strike_price = df.strike_price / 1000\n",
    "call_df = df[df.cp_flag == 'C'].drop(['cp_flag'], axis=1)\n",
    "put_df = df[df.cp_flag == 'P'].drop(['cp_flag'], axis=1)"
   ]
  },
  {
   "cell_type": "code",
   "execution_count": 5,
   "metadata": {},
   "outputs": [
    {
     "data": {
      "text/html": [
       "<div>\n",
       "<style scoped>\n",
       "    .dataframe tbody tr th:only-of-type {\n",
       "        vertical-align: middle;\n",
       "    }\n",
       "\n",
       "    .dataframe tbody tr th {\n",
       "        vertical-align: top;\n",
       "    }\n",
       "\n",
       "    .dataframe thead th {\n",
       "        text-align: right;\n",
       "    }\n",
       "</style>\n",
       "<table border=\"1\" class=\"dataframe\">\n",
       "  <thead>\n",
       "    <tr style=\"text-align: right;\">\n",
       "      <th></th>\n",
       "      <th>strike_price</th>\n",
       "      <th>best_bid</th>\n",
       "      <th>best_offer</th>\n",
       "      <th>date_ndiff</th>\n",
       "      <th>treasury_rate</th>\n",
       "      <th>closing_price</th>\n",
       "      <th>sigma_20</th>\n",
       "    </tr>\n",
       "  </thead>\n",
       "  <tbody>\n",
       "    <tr>\n",
       "      <th>0</th>\n",
       "      <td>600.0</td>\n",
       "      <td>28.000</td>\n",
       "      <td>29.000</td>\n",
       "      <td>47</td>\n",
       "      <td>5.17</td>\n",
       "      <td>624.22</td>\n",
       "      <td>0.007761</td>\n",
       "    </tr>\n",
       "    <tr>\n",
       "      <th>10</th>\n",
       "      <td>475.0</td>\n",
       "      <td>152.875</td>\n",
       "      <td>153.875</td>\n",
       "      <td>145</td>\n",
       "      <td>5.12</td>\n",
       "      <td>624.22</td>\n",
       "      <td>0.007761</td>\n",
       "    </tr>\n",
       "    <tr>\n",
       "      <th>13</th>\n",
       "      <td>600.0</td>\n",
       "      <td>52.375</td>\n",
       "      <td>53.375</td>\n",
       "      <td>327</td>\n",
       "      <td>5.05</td>\n",
       "      <td>624.22</td>\n",
       "      <td>0.007761</td>\n",
       "    </tr>\n",
       "    <tr>\n",
       "      <th>17</th>\n",
       "      <td>610.0</td>\n",
       "      <td>20.000</td>\n",
       "      <td>20.750</td>\n",
       "      <td>47</td>\n",
       "      <td>5.17</td>\n",
       "      <td>624.22</td>\n",
       "      <td>0.007761</td>\n",
       "    </tr>\n",
       "    <tr>\n",
       "      <th>18</th>\n",
       "      <td>675.0</td>\n",
       "      <td>34.000</td>\n",
       "      <td>35.000</td>\n",
       "      <td>691</td>\n",
       "      <td>5.10</td>\n",
       "      <td>624.22</td>\n",
       "      <td>0.007761</td>\n",
       "    </tr>\n",
       "  </tbody>\n",
       "</table>\n",
       "</div>"
      ],
      "text/plain": [
       "    strike_price  best_bid  best_offer  date_ndiff  treasury_rate  \\\n",
       "0          600.0    28.000      29.000          47           5.17   \n",
       "10         475.0   152.875     153.875         145           5.12   \n",
       "13         600.0    52.375      53.375         327           5.05   \n",
       "17         610.0    20.000      20.750          47           5.17   \n",
       "18         675.0    34.000      35.000         691           5.10   \n",
       "\n",
       "    closing_price  sigma_20  \n",
       "0          624.22  0.007761  \n",
       "10         624.22  0.007761  \n",
       "13         624.22  0.007761  \n",
       "17         624.22  0.007761  \n",
       "18         624.22  0.007761  "
      ]
     },
     "execution_count": 5,
     "metadata": {},
     "output_type": "execute_result"
    }
   ],
   "source": [
    "call_df.head()"
   ]
  },
  {
   "cell_type": "code",
   "execution_count": 6,
   "metadata": {},
   "outputs": [],
   "source": [
    "call_X_train, call_X_test, call_y_train, call_y_test = train_test_split(call_df.drop(['best_bid', 'best_offer'], axis=1),\n",
    "                                                                        (call_df.best_bid + call_df.best_offer) / 2,\n",
    "                                                                        test_size=0.01, random_state=42)\n",
    "put_X_train, put_X_test, put_y_train, put_y_test = train_test_split(put_df.drop(['best_bid', 'best_offer'], axis=1),\n",
    "                                                                    (put_df.best_bid + put_df.best_offer) / 2,\n",
    "                                                                    test_size=0.01, random_state=42)"
   ]
  },
  {
   "cell_type": "code",
   "execution_count": 7,
   "metadata": {},
   "outputs": [
    {
     "name": "stdout",
     "output_type": "stream",
     "text": [
      "WARNING:tensorflow:From /home/ubuntu/anaconda3/envs/tensorflow_p36/lib/python3.6/site-packages/keras/backend/tensorflow_backend.py:74: The name tf.get_default_graph is deprecated. Please use tf.compat.v1.get_default_graph instead.\n",
      "\n",
      "WARNING:tensorflow:From /home/ubuntu/anaconda3/envs/tensorflow_p36/lib/python3.6/site-packages/keras/backend/tensorflow_backend.py:517: The name tf.placeholder is deprecated. Please use tf.compat.v1.placeholder instead.\n",
      "\n",
      "WARNING:tensorflow:From /home/ubuntu/anaconda3/envs/tensorflow_p36/lib/python3.6/site-packages/keras/backend/tensorflow_backend.py:4138: The name tf.random_uniform is deprecated. Please use tf.random.uniform instead.\n",
      "\n",
      "WARNING:tensorflow:From /home/ubuntu/anaconda3/envs/tensorflow_p36/lib/python3.6/site-packages/keras/backend/tensorflow_backend.py:133: The name tf.placeholder_with_default is deprecated. Please use tf.compat.v1.placeholder_with_default instead.\n",
      "\n",
      "WARNING:tensorflow:From /home/ubuntu/anaconda3/envs/tensorflow_p36/lib/python3.6/site-packages/keras/optimizers.py:790: The name tf.train.Optimizer is deprecated. Please use tf.compat.v1.train.Optimizer instead.\n",
      "\n"
     ]
    }
   ],
   "source": [
    "model = Sequential()\n",
    "model.add(Dense(n_units, input_dim=call_X_train.shape[1]))\n",
    "model.add(LeakyReLU())\n",
    "\n",
    "for _ in range(layers - 1):\n",
    "    model.add(Dense(n_units))\n",
    "    model.add(BatchNormalization())\n",
    "    model.add(LeakyReLU())\n",
    "\n",
    "model.add(Dense(1, activation='relu'))\n",
    "\n",
    "model.compile(loss='mse', optimizer=Adam())"
   ]
  },
  {
   "cell_type": "code",
   "execution_count": 8,
   "metadata": {},
   "outputs": [
    {
     "name": "stdout",
     "output_type": "stream",
     "text": [
      "_________________________________________________________________\n",
      "Layer (type)                 Output Shape              Param #   \n",
      "=================================================================\n",
      "dense_1 (Dense)              (None, 400)               2400      \n",
      "_________________________________________________________________\n",
      "leaky_re_lu_1 (LeakyReLU)    (None, 400)               0         \n",
      "_________________________________________________________________\n",
      "dense_2 (Dense)              (None, 400)               160400    \n",
      "_________________________________________________________________\n",
      "batch_normalization_1 (Batch (None, 400)               1600      \n",
      "_________________________________________________________________\n",
      "leaky_re_lu_2 (LeakyReLU)    (None, 400)               0         \n",
      "_________________________________________________________________\n",
      "dense_3 (Dense)              (None, 400)               160400    \n",
      "_________________________________________________________________\n",
      "batch_normalization_2 (Batch (None, 400)               1600      \n",
      "_________________________________________________________________\n",
      "leaky_re_lu_3 (LeakyReLU)    (None, 400)               0         \n",
      "_________________________________________________________________\n",
      "dense_4 (Dense)              (None, 400)               160400    \n",
      "_________________________________________________________________\n",
      "batch_normalization_3 (Batch (None, 400)               1600      \n",
      "_________________________________________________________________\n",
      "leaky_re_lu_4 (LeakyReLU)    (None, 400)               0         \n",
      "_________________________________________________________________\n",
      "dense_5 (Dense)              (None, 1)                 401       \n",
      "=================================================================\n",
      "Total params: 488,801\n",
      "Trainable params: 486,401\n",
      "Non-trainable params: 2,400\n",
      "_________________________________________________________________\n"
     ]
    }
   ],
   "source": [
    "model.summary()"
   ]
  },
  {
   "cell_type": "code",
   "execution_count": 9,
   "metadata": {},
   "outputs": [
    {
     "name": "stdout",
     "output_type": "stream",
     "text": [
      "WARNING:tensorflow:From /home/ubuntu/anaconda3/envs/tensorflow_p36/lib/python3.6/site-packages/keras/backend/tensorflow_backend.py:986: The name tf.assign_add is deprecated. Please use tf.compat.v1.assign_add instead.\n",
      "\n",
      "Train on 5001241 samples, validate on 50518 samples\n",
      "WARNING:tensorflow:From /home/ubuntu/anaconda3/envs/tensorflow_p36/lib/python3.6/site-packages/keras/callbacks.py:850: The name tf.summary.merge_all is deprecated. Please use tf.compat.v1.summary.merge_all instead.\n",
      "\n",
      "WARNING:tensorflow:From /home/ubuntu/anaconda3/envs/tensorflow_p36/lib/python3.6/site-packages/keras/callbacks.py:853: The name tf.summary.FileWriter is deprecated. Please use tf.compat.v1.summary.FileWriter instead.\n",
      "\n",
      "Epoch 1/10\n",
      "5001241/5001241 [==============================] - 29s 6us/step - loss: 33852.9942 - val_loss: 2218.8129\n",
      "Epoch 2/10\n",
      "5001241/5001241 [==============================] - 29s 6us/step - loss: 134.5385 - val_loss: 3024.7805\n",
      "Epoch 3/10\n",
      "5001241/5001241 [==============================] - 28s 6us/step - loss: 116.8041 - val_loss: 159.8780\n",
      "Epoch 4/10\n",
      "5001241/5001241 [==============================] - 28s 6us/step - loss: 110.6229 - val_loss: 1200.5006\n",
      "Epoch 5/10\n",
      "5001241/5001241 [==============================] - 29s 6us/step - loss: 107.3717 - val_loss: 94.1658\n",
      "Epoch 6/10\n",
      "5001241/5001241 [==============================] - 29s 6us/step - loss: 109.0304 - val_loss: 1265.1090\n",
      "Epoch 7/10\n",
      "5001241/5001241 [==============================] - 29s 6us/step - loss: 100.7825 - val_loss: 6988.1798\n",
      "Epoch 8/10\n",
      "5001241/5001241 [==============================] - 29s 6us/step - loss: 104.4686 - val_loss: 278.3381\n",
      "Epoch 9/10\n",
      "5001241/5001241 [==============================] - 29s 6us/step - loss: 99.1795 - val_loss: 3379.4991\n",
      "Epoch 10/10\n",
      "5001241/5001241 [==============================] - 29s 6us/step - loss: 101.0631 - val_loss: 4243.2635\n"
     ]
    }
   ],
   "source": [
    "history = model.fit(call_X_train, call_y_train, \n",
    "                    batch_size=n_batch, epochs=n_epochs, \n",
    "                    validation_split = 0.01,\n",
    "                    callbacks=[TensorBoard()],\n",
    "                    verbose=1)"
   ]
  },
  {
   "cell_type": "code",
   "execution_count": 10,
   "metadata": {},
   "outputs": [],
   "source": [
    "model.save('mlp1-call10.h5')"
   ]
  },
  {
   "cell_type": "code",
   "execution_count": 11,
   "metadata": {},
   "outputs": [
    {
     "name": "stdout",
     "output_type": "stream",
     "text": [
      "Train on 5001241 samples, validate on 50518 samples\n",
      "Epoch 1/10\n",
      "5001241/5001241 [==============================] - 30s 6us/step - loss: 88.4756 - val_loss: 251.5875\n",
      "Epoch 2/10\n",
      "5001241/5001241 [==============================] - 29s 6us/step - loss: 82.5439 - val_loss: 45.6215\n",
      "Epoch 3/10\n",
      "5001241/5001241 [==============================] - 29s 6us/step - loss: 78.1060 - val_loss: 42.0497\n",
      "Epoch 4/10\n",
      "5001241/5001241 [==============================] - 29s 6us/step - loss: 78.9330 - val_loss: 60.2502\n",
      "Epoch 5/10\n",
      "5001241/5001241 [==============================] - 29s 6us/step - loss: 76.1271 - val_loss: 37.8237\n",
      "Epoch 6/10\n",
      "5001241/5001241 [==============================] - 29s 6us/step - loss: 71.9409 - val_loss: 42.0201\n",
      "Epoch 7/10\n",
      "5001241/5001241 [==============================] - 29s 6us/step - loss: 71.7083 - val_loss: 167.5035\n",
      "Epoch 8/10\n",
      "5001241/5001241 [==============================] - 29s 6us/step - loss: 73.6494 - val_loss: 640.7643\n",
      "Epoch 9/10\n",
      "5001241/5001241 [==============================] - 29s 6us/step - loss: 72.2194 - val_loss: 498.8630\n",
      "Epoch 10/10\n",
      "5001241/5001241 [==============================] - 29s 6us/step - loss: 67.8955 - val_loss: 33.9356\n"
     ]
    }
   ],
   "source": [
    "model.compile(loss='mse', optimizer=Adam(lr=1e-4))\n",
    "history = model.fit(call_X_train, call_y_train, \n",
    "                    batch_size=4096, epochs=n_epochs, \n",
    "                    validation_split = 0.01,\n",
    "                    callbacks=[TensorBoard()],\n",
    "                    verbose=1)"
   ]
  },
  {
   "cell_type": "code",
   "execution_count": 12,
   "metadata": {},
   "outputs": [],
   "source": [
    "model.save('mlp1-call20.h5')"
   ]
  },
  {
   "cell_type": "code",
   "execution_count": 13,
   "metadata": {},
   "outputs": [
    {
     "name": "stdout",
     "output_type": "stream",
     "text": [
      "Train on 5001241 samples, validate on 50518 samples\n",
      "Epoch 1/10\n",
      "5001241/5001241 [==============================] - 30s 6us/step - loss: 65.1953 - val_loss: 25.9072\n",
      "Epoch 2/10\n",
      "5001241/5001241 [==============================] - 29s 6us/step - loss: 64.5409 - val_loss: 23.7328\n",
      "Epoch 3/10\n",
      "5001241/5001241 [==============================] - 29s 6us/step - loss: 64.2214 - val_loss: 30.2003\n",
      "Epoch 4/10\n",
      "5001241/5001241 [==============================] - 29s 6us/step - loss: 64.7132 - val_loss: 35.9980\n",
      "Epoch 5/10\n",
      "5001241/5001241 [==============================] - 29s 6us/step - loss: 66.6474 - val_loss: 25.6222\n",
      "Epoch 6/10\n",
      "5001241/5001241 [==============================] - 30s 6us/step - loss: 64.4956 - val_loss: 22.3697\n",
      "Epoch 7/10\n",
      "5001241/5001241 [==============================] - 30s 6us/step - loss: 63.8673 - val_loss: 29.9699\n",
      "Epoch 8/10\n",
      "5001241/5001241 [==============================] - 29s 6us/step - loss: 63.1887 - val_loss: 25.7095\n",
      "Epoch 9/10\n",
      "5001241/5001241 [==============================] - 29s 6us/step - loss: 64.8805 - val_loss: 29.1499\n",
      "Epoch 10/10\n",
      "5001241/5001241 [==============================] - 30s 6us/step - loss: 65.0944 - val_loss: 22.6076\n"
     ]
    }
   ],
   "source": [
    "model.compile(loss='mse', optimizer=Adam(lr=1e-5))\n",
    "history = model.fit(call_X_train, call_y_train, \n",
    "                    batch_size=4096, epochs=10, \n",
    "                    validation_split = 0.01,\n",
    "                    callbacks=[TensorBoard()],\n",
    "                    verbose=1)"
   ]
  },
  {
   "cell_type": "code",
   "execution_count": 14,
   "metadata": {},
   "outputs": [],
   "source": [
    "model.save('mlp1-call30.h5')"
   ]
  },
  {
   "cell_type": "code",
   "execution_count": 15,
   "metadata": {},
   "outputs": [
    {
     "name": "stdout",
     "output_type": "stream",
     "text": [
      "Train on 5001241 samples, validate on 50518 samples\n",
      "Epoch 1/10\n",
      "5001241/5001241 [==============================] - 30s 6us/step - loss: 62.5827 - val_loss: 23.8257\n",
      "Epoch 2/10\n",
      "5001241/5001241 [==============================] - 29s 6us/step - loss: 60.4313 - val_loss: 24.4241\n",
      "Epoch 3/10\n",
      "5001241/5001241 [==============================] - 30s 6us/step - loss: 63.2473 - val_loss: 21.9690\n",
      "Epoch 4/10\n",
      "5001241/5001241 [==============================] - 30s 6us/step - loss: 64.2664 - val_loss: 21.8891\n",
      "Epoch 5/10\n",
      "5001241/5001241 [==============================] - 30s 6us/step - loss: 62.0405 - val_loss: 23.2404\n",
      "Epoch 6/10\n",
      "5001241/5001241 [==============================] - 30s 6us/step - loss: 62.2570 - val_loss: 23.1145\n",
      "Epoch 7/10\n",
      "5001241/5001241 [==============================] - 29s 6us/step - loss: 62.4362 - val_loss: 22.0084\n",
      "Epoch 8/10\n",
      "5001241/5001241 [==============================] - 29s 6us/step - loss: 62.2818 - val_loss: 24.4431\n",
      "Epoch 9/10\n",
      "5001241/5001241 [==============================] - 30s 6us/step - loss: 63.0698 - val_loss: 21.8614\n",
      "Epoch 10/10\n",
      "5001241/5001241 [==============================] - 29s 6us/step - loss: 61.1046 - val_loss: 26.6418\n"
     ]
    }
   ],
   "source": [
    "model.compile(loss='mse', optimizer=Adam(lr=1e-6))\n",
    "history = model.fit(call_X_train, call_y_train, \n",
    "                    batch_size=4096, epochs=10, \n",
    "                    validation_split = 0.01,\n",
    "                    callbacks=[TensorBoard()],\n",
    "                    verbose=1)"
   ]
  },
  {
   "cell_type": "code",
   "execution_count": 25,
   "metadata": {},
   "outputs": [],
   "source": [
    "model.save('mlp1-call40.h5')"
   ]
  },
  {
   "cell_type": "code",
   "execution_count": 16,
   "metadata": {},
   "outputs": [],
   "source": [
    "call_y_pred = model.predict(call_X_test)"
   ]
  },
  {
   "cell_type": "code",
   "execution_count": 22,
   "metadata": {},
   "outputs": [],
   "source": [
    "diff = (call_y_test.values - call_y_pred.reshape(call_y_pred.shape[0]))"
   ]
  },
  {
   "cell_type": "code",
   "execution_count": 24,
   "metadata": {},
   "outputs": [
    {
     "data": {
      "text/plain": [
       "27.774671477538476"
      ]
     },
     "execution_count": 24,
     "metadata": {},
     "output_type": "execute_result"
    }
   ],
   "source": [
    "np.mean(np.square(diff))"
   ]
  }
 ],
 "metadata": {
  "kernelspec": {
   "display_name": "Python 3",
   "language": "python",
   "name": "python3"
  },
  "language_info": {
   "codemirror_mode": {
    "name": "ipython",
    "version": 3
   },
   "file_extension": ".py",
   "mimetype": "text/x-python",
   "name": "python",
   "nbconvert_exporter": "python",
   "pygments_lexer": "ipython3",
   "version": "3.7.1"
  }
 },
 "nbformat": 4,
 "nbformat_minor": 2
}
