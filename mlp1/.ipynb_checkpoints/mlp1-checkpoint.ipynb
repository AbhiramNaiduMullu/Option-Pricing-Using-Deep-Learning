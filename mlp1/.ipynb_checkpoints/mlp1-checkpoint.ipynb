{
 "cells": [
  {
   "cell_type": "code",
   "execution_count": 10,
   "metadata": {},
   "outputs": [],
   "source": [
    "from keras.models import Sequential\n",
    "from keras.layers import Dense, Activation, LeakyReLU\n",
    "from keras import backend\n",
    "from keras.callbacks import TensorBoard\n",
    "from keras.optimizers import Adam\n",
    "import pandas as pd\n",
    "import numpy as np\n",
    "from sklearn.model_selection import train_test_split"
   ]
  },
  {
   "cell_type": "code",
   "execution_count": 2,
   "metadata": {},
   "outputs": [],
   "source": [
    "# Hyperparams\n",
    "n_units = 400\n",
    "layers = 4\n",
    "n_batch = 1024\n",
    "n_epochs = 200"
   ]
  },
  {
   "cell_type": "code",
   "execution_count": 3,
   "metadata": {},
   "outputs": [],
   "source": [
    "df = pd.read_csv('options-df-sigma.csv')\n",
    "df = df.dropna(axis=0)\n",
    "df = df.drop(columns=['date', 'exdate', 'impl_volatility'])\n",
    "df.strike_price = df.strike_price / 1000\n",
    "call_df = df[df.cp_flag == 'C'].drop(['cp_flag'], axis=1)\n",
    "put_df = df[df.cp_flag == 'P'].drop(['cp_flag'], axis=1)"
   ]
  },
  {
   "cell_type": "code",
   "execution_count": 4,
   "metadata": {},
   "outputs": [
    {
     "data": {
      "text/html": [
       "<div>\n",
       "<style scoped>\n",
       "    .dataframe tbody tr th:only-of-type {\n",
       "        vertical-align: middle;\n",
       "    }\n",
       "\n",
       "    .dataframe tbody tr th {\n",
       "        vertical-align: top;\n",
       "    }\n",
       "\n",
       "    .dataframe thead th {\n",
       "        text-align: right;\n",
       "    }\n",
       "</style>\n",
       "<table border=\"1\" class=\"dataframe\">\n",
       "  <thead>\n",
       "    <tr style=\"text-align: right;\">\n",
       "      <th></th>\n",
       "      <th>strike_price</th>\n",
       "      <th>best_bid</th>\n",
       "      <th>best_offer</th>\n",
       "      <th>volume</th>\n",
       "      <th>open_interest</th>\n",
       "      <th>date_ndiff</th>\n",
       "      <th>treasury_rate</th>\n",
       "      <th>closing_price</th>\n",
       "      <th>sigma_20</th>\n",
       "    </tr>\n",
       "  </thead>\n",
       "  <tbody>\n",
       "    <tr>\n",
       "      <th>0</th>\n",
       "      <td>600.0</td>\n",
       "      <td>28.000</td>\n",
       "      <td>29.000</td>\n",
       "      <td>4</td>\n",
       "      <td>8555</td>\n",
       "      <td>47</td>\n",
       "      <td>5.17</td>\n",
       "      <td>624.22</td>\n",
       "      <td>0.007761</td>\n",
       "    </tr>\n",
       "    <tr>\n",
       "      <th>10</th>\n",
       "      <td>475.0</td>\n",
       "      <td>152.875</td>\n",
       "      <td>153.875</td>\n",
       "      <td>0</td>\n",
       "      <td>2700</td>\n",
       "      <td>145</td>\n",
       "      <td>5.12</td>\n",
       "      <td>624.22</td>\n",
       "      <td>0.007761</td>\n",
       "    </tr>\n",
       "    <tr>\n",
       "      <th>13</th>\n",
       "      <td>600.0</td>\n",
       "      <td>52.375</td>\n",
       "      <td>53.375</td>\n",
       "      <td>0</td>\n",
       "      <td>2155</td>\n",
       "      <td>327</td>\n",
       "      <td>5.05</td>\n",
       "      <td>624.22</td>\n",
       "      <td>0.007761</td>\n",
       "    </tr>\n",
       "    <tr>\n",
       "      <th>17</th>\n",
       "      <td>610.0</td>\n",
       "      <td>20.000</td>\n",
       "      <td>20.750</td>\n",
       "      <td>923</td>\n",
       "      <td>8860</td>\n",
       "      <td>47</td>\n",
       "      <td>5.17</td>\n",
       "      <td>624.22</td>\n",
       "      <td>0.007761</td>\n",
       "    </tr>\n",
       "    <tr>\n",
       "      <th>18</th>\n",
       "      <td>675.0</td>\n",
       "      <td>34.000</td>\n",
       "      <td>35.000</td>\n",
       "      <td>0</td>\n",
       "      <td>350</td>\n",
       "      <td>691</td>\n",
       "      <td>5.10</td>\n",
       "      <td>624.22</td>\n",
       "      <td>0.007761</td>\n",
       "    </tr>\n",
       "  </tbody>\n",
       "</table>\n",
       "</div>"
      ],
      "text/plain": [
       "    strike_price  best_bid  best_offer  volume  open_interest  date_ndiff  \\\n",
       "0          600.0    28.000      29.000       4           8555          47   \n",
       "10         475.0   152.875     153.875       0           2700         145   \n",
       "13         600.0    52.375      53.375       0           2155         327   \n",
       "17         610.0    20.000      20.750     923           8860          47   \n",
       "18         675.0    34.000      35.000       0            350         691   \n",
       "\n",
       "    treasury_rate  closing_price  sigma_20  \n",
       "0            5.17         624.22  0.007761  \n",
       "10           5.12         624.22  0.007761  \n",
       "13           5.05         624.22  0.007761  \n",
       "17           5.17         624.22  0.007761  \n",
       "18           5.10         624.22  0.007761  "
      ]
     },
     "execution_count": 4,
     "metadata": {},
     "output_type": "execute_result"
    }
   ],
   "source": [
    "call_df.head()"
   ]
  },
  {
   "cell_type": "code",
   "execution_count": 5,
   "metadata": {},
   "outputs": [],
   "source": [
    "call_X_train, call_X_test, call_y_train, call_y_test = train_test_split(call_df.drop(['best_bid', 'best_offer'], axis=1),\n",
    "                                                                        (call_df.best_bid + call_df.best_offer) / 2,\n",
    "                                                                        test_size=0.01, random_state=42)\n",
    "put_X_train, put_X_test, put_y_train, put_y_test = train_test_split(put_df.drop(['best_bid', 'best_offer'], axis=1),\n",
    "                                                                    (put_df.best_bid + put_df.best_offer) / 2,\n",
    "                                                                    test_size=0.01, random_state=42)"
   ]
  },
  {
   "cell_type": "code",
   "execution_count": 8,
   "metadata": {},
   "outputs": [],
   "source": [
    "model = Sequential()\n",
    "model.add(Dense(n_units, input_dim=call_X_train.shape[1]))\n",
    "model.add(LeakyReLU())\n",
    "\n",
    "for _ in range(layers - 1):\n",
    "    model.add(Dense(n_units))\n",
    "    model.add(LeakyReLU())\n",
    "\n",
    "model.add(Dense(1, activation='relu'))\n",
    "\n",
    "model.compile(loss='mse', optimizer=Adam(lr=1e-5))"
   ]
  },
  {
   "cell_type": "code",
   "execution_count": 9,
   "metadata": {},
   "outputs": [
    {
     "name": "stdout",
     "output_type": "stream",
     "text": [
      "_________________________________________________________________\n",
      "Layer (type)                 Output Shape              Param #   \n",
      "=================================================================\n",
      "dense_6 (Dense)              (None, 400)               3200      \n",
      "_________________________________________________________________\n",
      "leaky_re_lu_5 (LeakyReLU)    (None, 400)               0         \n",
      "_________________________________________________________________\n",
      "dense_7 (Dense)              (None, 400)               160400    \n",
      "_________________________________________________________________\n",
      "leaky_re_lu_6 (LeakyReLU)    (None, 400)               0         \n",
      "_________________________________________________________________\n",
      "dense_8 (Dense)              (None, 400)               160400    \n",
      "_________________________________________________________________\n",
      "leaky_re_lu_7 (LeakyReLU)    (None, 400)               0         \n",
      "_________________________________________________________________\n",
      "dense_9 (Dense)              (None, 400)               160400    \n",
      "_________________________________________________________________\n",
      "leaky_re_lu_8 (LeakyReLU)    (None, 400)               0         \n",
      "_________________________________________________________________\n",
      "dense_10 (Dense)             (None, 1)                 401       \n",
      "=================================================================\n",
      "Total params: 484,801\n",
      "Trainable params: 484,801\n",
      "Non-trainable params: 0\n",
      "_________________________________________________________________\n"
     ]
    }
   ],
   "source": [
    "model.summary()"
   ]
  },
  {
   "cell_type": "code",
   "execution_count": 11,
   "metadata": {},
   "outputs": [
    {
     "name": "stdout",
     "output_type": "stream",
     "text": [
      "WARNING:tensorflow:From /home/ubuntu/anaconda3/envs/tensorflow_p36/lib/python3.6/site-packages/keras/backend/tensorflow_backend.py:986: The name tf.assign_add is deprecated. Please use tf.compat.v1.assign_add instead.\n",
      "\n",
      "WARNING:tensorflow:From /home/ubuntu/anaconda3/envs/tensorflow_p36/lib/python3.6/site-packages/keras/backend/tensorflow_backend.py:973: The name tf.assign is deprecated. Please use tf.compat.v1.assign instead.\n",
      "\n",
      "Train on 5001241 samples, validate on 50518 samples\n",
      "WARNING:tensorflow:From /home/ubuntu/anaconda3/envs/tensorflow_p36/lib/python3.6/site-packages/keras/callbacks.py:850: The name tf.summary.merge_all is deprecated. Please use tf.compat.v1.summary.merge_all instead.\n",
      "\n",
      "WARNING:tensorflow:From /home/ubuntu/anaconda3/envs/tensorflow_p36/lib/python3.6/site-packages/keras/callbacks.py:853: The name tf.summary.FileWriter is deprecated. Please use tf.compat.v1.summary.FileWriter instead.\n",
      "\n",
      "Epoch 1/200\n",
      "5001241/5001241 [==============================] - 47s 9us/step - loss: 5036.4262 - val_loss: 188.0223\n",
      "Epoch 2/200\n",
      "5001241/5001241 [==============================] - 34s 7us/step - loss: 176.6153 - val_loss: 142.4848\n",
      "Epoch 3/200\n",
      "5001241/5001241 [==============================] - 34s 7us/step - loss: 141.0185 - val_loss: 187.0093\n",
      "Epoch 4/200\n",
      "5001241/5001241 [==============================] - 34s 7us/step - loss: 123.1690 - val_loss: 102.7135\n",
      "Epoch 5/200\n",
      "5001241/5001241 [==============================] - 34s 7us/step - loss: 112.7073 - val_loss: 166.1797\n",
      "Epoch 6/200\n",
      "5001241/5001241 [==============================] - 34s 7us/step - loss: 107.7671 - val_loss: 107.4747\n",
      "Epoch 7/200\n",
      "5001241/5001241 [==============================] - 34s 7us/step - loss: 104.1708 - val_loss: 116.1972\n",
      "Epoch 8/200\n",
      "5001241/5001241 [==============================] - 34s 7us/step - loss: 102.3607 - val_loss: 88.9234\n",
      "Epoch 9/200\n",
      "5001241/5001241 [==============================] - 34s 7us/step - loss: 98.8054 - val_loss: 130.8004\n",
      "Epoch 10/200\n",
      "5001241/5001241 [==============================] - 34s 7us/step - loss: 98.5053 - val_loss: 88.4714\n",
      "Epoch 11/200\n",
      "5001241/5001241 [==============================] - 34s 7us/step - loss: 96.7529 - val_loss: 108.9214\n",
      "Epoch 12/200\n",
      "5001241/5001241 [==============================] - 34s 7us/step - loss: 94.6704 - val_loss: 104.7312\n",
      "Epoch 13/200\n",
      "5001241/5001241 [==============================] - 34s 7us/step - loss: 92.5520 - val_loss: 81.0186\n",
      "Epoch 14/200\n",
      "5001241/5001241 [==============================] - 34s 7us/step - loss: 91.9717 - val_loss: 309.4939\n",
      "Epoch 15/200\n",
      "5001241/5001241 [==============================] - 34s 7us/step - loss: 91.7259 - val_loss: 81.7654\n",
      "Epoch 16/200\n",
      "5001241/5001241 [==============================] - 34s 7us/step - loss: 90.2024 - val_loss: 111.8818\n",
      "Epoch 17/200\n",
      "5001241/5001241 [==============================] - 34s 7us/step - loss: 88.3011 - val_loss: 90.3807\n",
      "Epoch 18/200\n",
      "5001241/5001241 [==============================] - 34s 7us/step - loss: 88.0001 - val_loss: 78.2288\n",
      "Epoch 19/200\n",
      "5001241/5001241 [==============================] - 34s 7us/step - loss: 87.6661 - val_loss: 76.3162\n",
      "Epoch 20/200\n",
      "5001241/5001241 [==============================] - 34s 7us/step - loss: 84.9365 - val_loss: 82.3195\n",
      "Epoch 21/200\n",
      "5001241/5001241 [==============================] - 34s 7us/step - loss: 83.7642 - val_loss: 87.5521\n",
      "Epoch 22/200\n",
      "5001241/5001241 [==============================] - 34s 7us/step - loss: 83.0312 - val_loss: 78.4834\n",
      "Epoch 23/200\n",
      "5001241/5001241 [==============================] - 34s 7us/step - loss: 83.2441 - val_loss: 99.3857\n",
      "Epoch 24/200\n",
      "5001241/5001241 [==============================] - 34s 7us/step - loss: 81.2628 - val_loss: 79.4341\n",
      "Epoch 25/200\n",
      "5001241/5001241 [==============================] - 34s 7us/step - loss: 81.0779 - val_loss: 71.6908\n",
      "Epoch 26/200\n",
      "5001241/5001241 [==============================] - 34s 7us/step - loss: 81.1197 - val_loss: 76.9108\n",
      "Epoch 27/200\n",
      "5001241/5001241 [==============================] - 34s 7us/step - loss: 80.0808 - val_loss: 4475.0334\n",
      "Epoch 28/200\n",
      "5001241/5001241 [==============================] - 34s 7us/step - loss: 85.4574 - val_loss: 78.9996\n",
      "Epoch 29/200\n",
      "5001241/5001241 [==============================] - 34s 7us/step - loss: 78.6846 - val_loss: 87.1416\n",
      "Epoch 30/200\n",
      "5001241/5001241 [==============================] - 34s 7us/step - loss: 78.7737 - val_loss: 83.7433\n",
      "Epoch 31/200\n",
      "5001241/5001241 [==============================] - 35s 7us/step - loss: 77.7242 - val_loss: 72.2496\n",
      "Epoch 32/200\n",
      "5001241/5001241 [==============================] - 35s 7us/step - loss: 77.4690 - val_loss: 81.9168\n",
      "Epoch 33/200\n",
      "5001241/5001241 [==============================] - 34s 7us/step - loss: 76.9089 - val_loss: 69.7631\n",
      "Epoch 34/200\n",
      "5001241/5001241 [==============================] - 34s 7us/step - loss: 76.8477 - val_loss: 253.2464\n",
      "Epoch 35/200\n",
      "5001241/5001241 [==============================] - 34s 7us/step - loss: 77.5123 - val_loss: 75.1322\n",
      "Epoch 36/200\n",
      "5001241/5001241 [==============================] - 34s 7us/step - loss: 75.8342 - val_loss: 88.7706\n",
      "Epoch 37/200\n",
      "5001241/5001241 [==============================] - 34s 7us/step - loss: 76.0737 - val_loss: 85.1501\n",
      "Epoch 38/200\n",
      "5001241/5001241 [==============================] - 34s 7us/step - loss: 75.9887 - val_loss: 72.8650\n",
      "Epoch 39/200\n",
      "5001241/5001241 [==============================] - 33s 7us/step - loss: 74.5660 - val_loss: 159.5749\n",
      "Epoch 40/200\n",
      "5001241/5001241 [==============================] - 33s 7us/step - loss: 74.5853 - val_loss: 75.7605\n",
      "Epoch 41/200\n",
      "5001241/5001241 [==============================] - 33s 7us/step - loss: 73.9432 - val_loss: 70.5750\n",
      "Epoch 42/200\n",
      "5001241/5001241 [==============================] - 33s 7us/step - loss: 74.0131 - val_loss: 82.0736\n",
      "Epoch 43/200\n",
      "5001241/5001241 [==============================] - 33s 7us/step - loss: 73.1844 - val_loss: 96.6421\n",
      "Epoch 44/200\n",
      "5001241/5001241 [==============================] - 33s 7us/step - loss: 72.5132 - val_loss: 69.7892\n",
      "Epoch 45/200\n",
      "5001241/5001241 [==============================] - 33s 7us/step - loss: 72.5515 - val_loss: 71.8916\n",
      "Epoch 46/200\n",
      "5001241/5001241 [==============================] - 33s 7us/step - loss: 71.8097 - val_loss: 74.8639\n",
      "Epoch 47/200\n",
      "5001241/5001241 [==============================] - 33s 7us/step - loss: 71.6048 - val_loss: 69.9622\n",
      "Epoch 48/200\n",
      "5001241/5001241 [==============================] - 33s 7us/step - loss: 71.3456 - val_loss: 69.1922\n",
      "Epoch 49/200\n",
      "5001241/5001241 [==============================] - 33s 7us/step - loss: 70.6167 - val_loss: 66.0902\n",
      "Epoch 50/200\n",
      "5001241/5001241 [==============================] - 33s 7us/step - loss: 70.6504 - val_loss: 79.6008\n",
      "Epoch 51/200\n",
      "5001241/5001241 [==============================] - 33s 7us/step - loss: 70.0535 - val_loss: 66.6788\n",
      "Epoch 52/200\n",
      "5001241/5001241 [==============================] - 33s 7us/step - loss: 69.7768 - val_loss: 64.2999\n",
      "Epoch 53/200\n",
      "5001241/5001241 [==============================] - 33s 7us/step - loss: 68.4939 - val_loss: 63.8363\n",
      "Epoch 54/200\n",
      "5001241/5001241 [==============================] - 33s 7us/step - loss: 67.9249 - val_loss: 65.4789\n",
      "Epoch 55/200\n",
      "5001241/5001241 [==============================] - 33s 7us/step - loss: 68.0865 - val_loss: 63.9387\n",
      "Epoch 56/200\n",
      "5001241/5001241 [==============================] - 33s 7us/step - loss: 66.7999 - val_loss: 69.5766\n",
      "Epoch 57/200\n",
      "5001241/5001241 [==============================] - 33s 7us/step - loss: 66.7209 - val_loss: 83.1903\n",
      "Epoch 58/200\n",
      "5001241/5001241 [==============================] - 33s 7us/step - loss: 65.8918 - val_loss: 122.9601\n",
      "Epoch 59/200\n",
      "5001241/5001241 [==============================] - 33s 7us/step - loss: 65.5940 - val_loss: 68.8842\n",
      "Epoch 60/200\n",
      "5001241/5001241 [==============================] - 33s 7us/step - loss: 65.2587 - val_loss: 59.3307\n",
      "Epoch 61/200\n",
      "5001241/5001241 [==============================] - 33s 7us/step - loss: 64.0408 - val_loss: 72.4875\n",
      "Epoch 62/200\n",
      "5001241/5001241 [==============================] - 33s 7us/step - loss: 63.5383 - val_loss: 86.2969\n",
      "Epoch 63/200\n",
      "5001241/5001241 [==============================] - 33s 7us/step - loss: 63.4486 - val_loss: 67.4349\n",
      "Epoch 64/200\n",
      "5001241/5001241 [==============================] - 33s 7us/step - loss: 64.1047 - val_loss: 73.5019\n",
      "Epoch 65/200\n",
      "5001241/5001241 [==============================] - 33s 7us/step - loss: 62.6218 - val_loss: 68.7422\n",
      "Epoch 66/200\n",
      "5001241/5001241 [==============================] - 33s 7us/step - loss: 62.1148 - val_loss: 75.4922\n",
      "Epoch 67/200\n",
      "5001241/5001241 [==============================] - 33s 7us/step - loss: 61.7874 - val_loss: 113.9917\n",
      "Epoch 68/200\n",
      "5001241/5001241 [==============================] - 33s 7us/step - loss: 62.1586 - val_loss: 74.0346\n",
      "Epoch 69/200\n",
      "5001241/5001241 [==============================] - 33s 7us/step - loss: 61.2773 - val_loss: 59.3865\n",
      "Epoch 70/200\n",
      "5001241/5001241 [==============================] - 33s 7us/step - loss: 61.4629 - val_loss: 57.4262\n",
      "Epoch 71/200\n",
      "5001241/5001241 [==============================] - 33s 7us/step - loss: 60.5791 - val_loss: 58.6497\n",
      "Epoch 72/200\n",
      "5001241/5001241 [==============================] - 33s 7us/step - loss: 60.7140 - val_loss: 64.9375\n",
      "Epoch 73/200\n",
      "5001241/5001241 [==============================] - 33s 7us/step - loss: 60.4514 - val_loss: 73.1217\n",
      "Epoch 74/200\n",
      "5001241/5001241 [==============================] - 33s 7us/step - loss: 59.7784 - val_loss: 58.3801\n",
      "Epoch 75/200\n",
      "5001241/5001241 [==============================] - 33s 7us/step - loss: 59.9562 - val_loss: 55.8762\n",
      "Epoch 76/200\n",
      "5001241/5001241 [==============================] - 33s 7us/step - loss: 59.8743 - val_loss: 57.2025\n",
      "Epoch 77/200\n",
      "5001241/5001241 [==============================] - 33s 7us/step - loss: 59.6613 - val_loss: 71.2128\n",
      "Epoch 78/200\n",
      "5001241/5001241 [==============================] - 33s 7us/step - loss: 59.1820 - val_loss: 56.7138\n",
      "Epoch 79/200\n",
      "5001241/5001241 [==============================] - 33s 7us/step - loss: 59.2769 - val_loss: 57.7136\n",
      "Epoch 80/200\n",
      "5001241/5001241 [==============================] - 33s 7us/step - loss: 59.0778 - val_loss: 59.4957\n",
      "Epoch 81/200\n",
      "5001241/5001241 [==============================] - 33s 7us/step - loss: 58.9863 - val_loss: 72.8030\n",
      "Epoch 82/200\n",
      "5001241/5001241 [==============================] - 33s 7us/step - loss: 58.3175 - val_loss: 57.3065\n",
      "Epoch 83/200\n",
      "5001241/5001241 [==============================] - 33s 7us/step - loss: 58.7549 - val_loss: 66.4609\n",
      "Epoch 84/200\n",
      "5001241/5001241 [==============================] - 33s 7us/step - loss: 58.3492 - val_loss: 63.8621\n",
      "Epoch 85/200\n",
      "5001241/5001241 [==============================] - 33s 7us/step - loss: 58.1229 - val_loss: 54.3074\n",
      "Epoch 86/200\n",
      "5001241/5001241 [==============================] - 33s 7us/step - loss: 58.4576 - val_loss: 55.4585\n",
      "Epoch 87/200\n",
      "5001241/5001241 [==============================] - 33s 7us/step - loss: 57.9889 - val_loss: 55.1081\n",
      "Epoch 88/200\n",
      "5001241/5001241 [==============================] - 33s 7us/step - loss: 57.9898 - val_loss: 56.6230\n",
      "Epoch 89/200\n",
      "5001241/5001241 [==============================] - 33s 7us/step - loss: 57.8380 - val_loss: 57.4870\n",
      "Epoch 90/200\n",
      "5001241/5001241 [==============================] - 33s 7us/step - loss: 57.9171 - val_loss: 73.7234\n",
      "Epoch 91/200\n",
      "5001241/5001241 [==============================] - 33s 7us/step - loss: 57.2830 - val_loss: 53.7154\n",
      "Epoch 92/200\n",
      "5001241/5001241 [==============================] - 33s 7us/step - loss: 57.6820 - val_loss: 55.5257\n",
      "Epoch 93/200\n",
      "5001241/5001241 [==============================] - 33s 7us/step - loss: 56.9285 - val_loss: 78.0051\n",
      "Epoch 94/200\n",
      "5001241/5001241 [==============================] - 33s 7us/step - loss: 57.1833 - val_loss: 55.3060\n",
      "Epoch 95/200\n",
      "5001241/5001241 [==============================] - 33s 7us/step - loss: 57.3020 - val_loss: 84.5314\n",
      "Epoch 96/200\n",
      "5001241/5001241 [==============================] - 33s 7us/step - loss: 57.3563 - val_loss: 65.1471\n",
      "Epoch 97/200\n",
      "5001241/5001241 [==============================] - 33s 7us/step - loss: 56.9559 - val_loss: 60.9642\n",
      "Epoch 98/200\n",
      "5001241/5001241 [==============================] - 33s 7us/step - loss: 56.7157 - val_loss: 56.3474\n",
      "Epoch 99/200\n",
      "5001241/5001241 [==============================] - 33s 7us/step - loss: 56.8020 - val_loss: 74.5691\n",
      "Epoch 100/200\n",
      "5001241/5001241 [==============================] - 33s 7us/step - loss: 56.5210 - val_loss: 55.1820\n",
      "Epoch 101/200\n",
      " 377856/5001241 [=>............................] - ETA: 32s - loss: 56.7670"
     ]
    },
    {
     "ename": "KeyboardInterrupt",
     "evalue": "",
     "output_type": "error",
     "traceback": [
      "\u001b[0;31m---------------------------------------------------------------------------\u001b[0m",
      "\u001b[0;31mKeyboardInterrupt\u001b[0m                         Traceback (most recent call last)",
      "\u001b[0;32m<ipython-input-11-40a8c535d594>\u001b[0m in \u001b[0;36m<module>\u001b[0;34m()\u001b[0m\n\u001b[1;32m      3\u001b[0m                     \u001b[0mvalidation_split\u001b[0m \u001b[0;34m=\u001b[0m \u001b[0;36m0.01\u001b[0m\u001b[0;34m,\u001b[0m\u001b[0;34m\u001b[0m\u001b[0m\n\u001b[1;32m      4\u001b[0m                     \u001b[0mcallbacks\u001b[0m\u001b[0;34m=\u001b[0m\u001b[0;34m[\u001b[0m\u001b[0mTensorBoard\u001b[0m\u001b[0;34m(\u001b[0m\u001b[0;34m)\u001b[0m\u001b[0;34m]\u001b[0m\u001b[0;34m,\u001b[0m\u001b[0;34m\u001b[0m\u001b[0m\n\u001b[0;32m----> 5\u001b[0;31m                     verbose=1)\n\u001b[0m",
      "\u001b[0;32m~/anaconda3/envs/tensorflow_p36/lib/python3.6/site-packages/keras/engine/training.py\u001b[0m in \u001b[0;36mfit\u001b[0;34m(self, x, y, batch_size, epochs, verbose, callbacks, validation_split, validation_data, shuffle, class_weight, sample_weight, initial_epoch, steps_per_epoch, validation_steps, **kwargs)\u001b[0m\n\u001b[1;32m   1037\u001b[0m                                         \u001b[0minitial_epoch\u001b[0m\u001b[0;34m=\u001b[0m\u001b[0minitial_epoch\u001b[0m\u001b[0;34m,\u001b[0m\u001b[0;34m\u001b[0m\u001b[0m\n\u001b[1;32m   1038\u001b[0m                                         \u001b[0msteps_per_epoch\u001b[0m\u001b[0;34m=\u001b[0m\u001b[0msteps_per_epoch\u001b[0m\u001b[0;34m,\u001b[0m\u001b[0;34m\u001b[0m\u001b[0m\n\u001b[0;32m-> 1039\u001b[0;31m                                         validation_steps=validation_steps)\n\u001b[0m\u001b[1;32m   1040\u001b[0m \u001b[0;34m\u001b[0m\u001b[0m\n\u001b[1;32m   1041\u001b[0m     def evaluate(self, x=None, y=None,\n",
      "\u001b[0;32m~/anaconda3/envs/tensorflow_p36/lib/python3.6/site-packages/keras/engine/training_arrays.py\u001b[0m in \u001b[0;36mfit_loop\u001b[0;34m(model, f, ins, out_labels, batch_size, epochs, verbose, callbacks, val_f, val_ins, shuffle, callback_metrics, initial_epoch, steps_per_epoch, validation_steps)\u001b[0m\n\u001b[1;32m    197\u001b[0m                     \u001b[0mins_batch\u001b[0m\u001b[0;34m[\u001b[0m\u001b[0mi\u001b[0m\u001b[0;34m]\u001b[0m \u001b[0;34m=\u001b[0m \u001b[0mins_batch\u001b[0m\u001b[0;34m[\u001b[0m\u001b[0mi\u001b[0m\u001b[0;34m]\u001b[0m\u001b[0;34m.\u001b[0m\u001b[0mtoarray\u001b[0m\u001b[0;34m(\u001b[0m\u001b[0;34m)\u001b[0m\u001b[0;34m\u001b[0m\u001b[0m\n\u001b[1;32m    198\u001b[0m \u001b[0;34m\u001b[0m\u001b[0m\n\u001b[0;32m--> 199\u001b[0;31m                 \u001b[0mouts\u001b[0m \u001b[0;34m=\u001b[0m \u001b[0mf\u001b[0m\u001b[0;34m(\u001b[0m\u001b[0mins_batch\u001b[0m\u001b[0;34m)\u001b[0m\u001b[0;34m\u001b[0m\u001b[0m\n\u001b[0m\u001b[1;32m    200\u001b[0m                 \u001b[0mouts\u001b[0m \u001b[0;34m=\u001b[0m \u001b[0mto_list\u001b[0m\u001b[0;34m(\u001b[0m\u001b[0mouts\u001b[0m\u001b[0;34m)\u001b[0m\u001b[0;34m\u001b[0m\u001b[0m\n\u001b[1;32m    201\u001b[0m                 \u001b[0;32mfor\u001b[0m \u001b[0ml\u001b[0m\u001b[0;34m,\u001b[0m \u001b[0mo\u001b[0m \u001b[0;32min\u001b[0m \u001b[0mzip\u001b[0m\u001b[0;34m(\u001b[0m\u001b[0mout_labels\u001b[0m\u001b[0;34m,\u001b[0m \u001b[0mouts\u001b[0m\u001b[0;34m)\u001b[0m\u001b[0;34m:\u001b[0m\u001b[0;34m\u001b[0m\u001b[0m\n",
      "\u001b[0;32m~/anaconda3/envs/tensorflow_p36/lib/python3.6/site-packages/keras/backend/tensorflow_backend.py\u001b[0m in \u001b[0;36m__call__\u001b[0;34m(self, inputs)\u001b[0m\n\u001b[1;32m   2713\u001b[0m                 \u001b[0;32mreturn\u001b[0m \u001b[0mself\u001b[0m\u001b[0;34m.\u001b[0m\u001b[0m_legacy_call\u001b[0m\u001b[0;34m(\u001b[0m\u001b[0minputs\u001b[0m\u001b[0;34m)\u001b[0m\u001b[0;34m\u001b[0m\u001b[0m\n\u001b[1;32m   2714\u001b[0m \u001b[0;34m\u001b[0m\u001b[0m\n\u001b[0;32m-> 2715\u001b[0;31m             \u001b[0;32mreturn\u001b[0m \u001b[0mself\u001b[0m\u001b[0;34m.\u001b[0m\u001b[0m_call\u001b[0m\u001b[0;34m(\u001b[0m\u001b[0minputs\u001b[0m\u001b[0;34m)\u001b[0m\u001b[0;34m\u001b[0m\u001b[0m\n\u001b[0m\u001b[1;32m   2716\u001b[0m         \u001b[0;32melse\u001b[0m\u001b[0;34m:\u001b[0m\u001b[0;34m\u001b[0m\u001b[0m\n\u001b[1;32m   2717\u001b[0m             \u001b[0;32mif\u001b[0m \u001b[0mpy_any\u001b[0m\u001b[0;34m(\u001b[0m\u001b[0mis_tensor\u001b[0m\u001b[0;34m(\u001b[0m\u001b[0mx\u001b[0m\u001b[0;34m)\u001b[0m \u001b[0;32mfor\u001b[0m \u001b[0mx\u001b[0m \u001b[0;32min\u001b[0m \u001b[0minputs\u001b[0m\u001b[0;34m)\u001b[0m\u001b[0;34m:\u001b[0m\u001b[0;34m\u001b[0m\u001b[0m\n",
      "\u001b[0;32m~/anaconda3/envs/tensorflow_p36/lib/python3.6/site-packages/keras/backend/tensorflow_backend.py\u001b[0m in \u001b[0;36m_call\u001b[0;34m(self, inputs)\u001b[0m\n\u001b[1;32m   2673\u001b[0m             \u001b[0mfetched\u001b[0m \u001b[0;34m=\u001b[0m \u001b[0mself\u001b[0m\u001b[0;34m.\u001b[0m\u001b[0m_callable_fn\u001b[0m\u001b[0;34m(\u001b[0m\u001b[0;34m*\u001b[0m\u001b[0marray_vals\u001b[0m\u001b[0;34m,\u001b[0m \u001b[0mrun_metadata\u001b[0m\u001b[0;34m=\u001b[0m\u001b[0mself\u001b[0m\u001b[0;34m.\u001b[0m\u001b[0mrun_metadata\u001b[0m\u001b[0;34m)\u001b[0m\u001b[0;34m\u001b[0m\u001b[0m\n\u001b[1;32m   2674\u001b[0m         \u001b[0;32melse\u001b[0m\u001b[0;34m:\u001b[0m\u001b[0;34m\u001b[0m\u001b[0m\n\u001b[0;32m-> 2675\u001b[0;31m             \u001b[0mfetched\u001b[0m \u001b[0;34m=\u001b[0m \u001b[0mself\u001b[0m\u001b[0;34m.\u001b[0m\u001b[0m_callable_fn\u001b[0m\u001b[0;34m(\u001b[0m\u001b[0;34m*\u001b[0m\u001b[0marray_vals\u001b[0m\u001b[0;34m)\u001b[0m\u001b[0;34m\u001b[0m\u001b[0m\n\u001b[0m\u001b[1;32m   2676\u001b[0m         \u001b[0;32mreturn\u001b[0m \u001b[0mfetched\u001b[0m\u001b[0;34m[\u001b[0m\u001b[0;34m:\u001b[0m\u001b[0mlen\u001b[0m\u001b[0;34m(\u001b[0m\u001b[0mself\u001b[0m\u001b[0;34m.\u001b[0m\u001b[0moutputs\u001b[0m\u001b[0;34m)\u001b[0m\u001b[0;34m]\u001b[0m\u001b[0;34m\u001b[0m\u001b[0m\n\u001b[1;32m   2677\u001b[0m \u001b[0;34m\u001b[0m\u001b[0m\n",
      "\u001b[0;32m~/anaconda3/envs/tensorflow_p36/lib/python3.6/site-packages/tensorflow/python/client/session.py\u001b[0m in \u001b[0;36m__call__\u001b[0;34m(self, *args, **kwargs)\u001b[0m\n\u001b[1;32m   1456\u001b[0m         ret = tf_session.TF_SessionRunCallable(self._session._session,\n\u001b[1;32m   1457\u001b[0m                                                \u001b[0mself\u001b[0m\u001b[0;34m.\u001b[0m\u001b[0m_handle\u001b[0m\u001b[0;34m,\u001b[0m \u001b[0margs\u001b[0m\u001b[0;34m,\u001b[0m\u001b[0;34m\u001b[0m\u001b[0m\n\u001b[0;32m-> 1458\u001b[0;31m                                                run_metadata_ptr)\n\u001b[0m\u001b[1;32m   1459\u001b[0m         \u001b[0;32mif\u001b[0m \u001b[0mrun_metadata\u001b[0m\u001b[0;34m:\u001b[0m\u001b[0;34m\u001b[0m\u001b[0m\n\u001b[1;32m   1460\u001b[0m           \u001b[0mproto_data\u001b[0m \u001b[0;34m=\u001b[0m \u001b[0mtf_session\u001b[0m\u001b[0;34m.\u001b[0m\u001b[0mTF_GetBuffer\u001b[0m\u001b[0;34m(\u001b[0m\u001b[0mrun_metadata_ptr\u001b[0m\u001b[0;34m)\u001b[0m\u001b[0;34m\u001b[0m\u001b[0m\n",
      "\u001b[0;31mKeyboardInterrupt\u001b[0m: "
     ]
    }
   ],
   "source": [
    "history = model.fit(call_X_train, call_y_train, \n",
    "                    batch_size=n_batch, epochs=n_epochs, \n",
    "                    validation_split = 0.01,\n",
    "                    callbacks=[TensorBoard()],\n",
    "                    verbose=1)"
   ]
  },
  {
   "cell_type": "code",
   "execution_count": 12,
   "metadata": {},
   "outputs": [],
   "source": [
    "model.save('mlp1-100.h5')"
   ]
  },
  {
   "cell_type": "code",
   "execution_count": 13,
   "metadata": {},
   "outputs": [],
   "source": [
    "call_y_pred = model.predict(call_X_test)"
   ]
  },
  {
   "cell_type": "code",
   "execution_count": 22,
   "metadata": {},
   "outputs": [
    {
     "data": {
      "text/plain": [
       "('test set mse', 60.14225438740651)"
      ]
     },
     "execution_count": 22,
     "metadata": {},
     "output_type": "execute_result"
    }
   ],
   "source": [
    "'test set mse', np.mean(np.square(call_y_test - np.reshape(call_y_pred, call_y_pred.shape[0])))"
   ]
  },
  {
   "cell_type": "markdown",
   "metadata": {},
   "source": [
    "# Now beyond 100 epochs using 1e-6 lr"
   ]
  },
  {
   "cell_type": "code",
   "execution_count": 23,
   "metadata": {},
   "outputs": [],
   "source": [
    "model.compile(loss='mse', optimizer=Adam(lr=1e-6))"
   ]
  },
  {
   "cell_type": "code",
   "execution_count": 24,
   "metadata": {},
   "outputs": [
    {
     "name": "stdout",
     "output_type": "stream",
     "text": [
      "Train on 5001241 samples, validate on 50518 samples\n",
      "Epoch 1/20\n",
      "5001241/5001241 [==============================] - 34s 7us/step - loss: 53.6987 - val_loss: 52.2438\n",
      "Epoch 2/20\n",
      "5001241/5001241 [==============================] - 34s 7us/step - loss: 53.6462 - val_loss: 52.2117\n",
      "Epoch 3/20\n",
      "5001241/5001241 [==============================] - 34s 7us/step - loss: 53.6000 - val_loss: 52.1503\n",
      "Epoch 4/20\n",
      "5001241/5001241 [==============================] - 34s 7us/step - loss: 53.5716 - val_loss: 52.5116\n",
      "Epoch 5/20\n",
      "5001241/5001241 [==============================] - 34s 7us/step - loss: 53.5317 - val_loss: 52.7806\n",
      "Epoch 6/20\n",
      "5001241/5001241 [==============================] - 34s 7us/step - loss: 53.5112 - val_loss: 52.1189\n",
      "Epoch 7/20\n",
      "5001241/5001241 [==============================] - 34s 7us/step - loss: 53.5029 - val_loss: 52.6333\n",
      "Epoch 8/20\n",
      "5001241/5001241 [==============================] - 34s 7us/step - loss: 53.4770 - val_loss: 52.2363\n",
      "Epoch 9/20\n",
      "5001241/5001241 [==============================] - 34s 7us/step - loss: 53.4430 - val_loss: 51.8890\n",
      "Epoch 10/20\n",
      "5001241/5001241 [==============================] - 34s 7us/step - loss: 53.4190 - val_loss: 52.2424\n",
      "Epoch 11/20\n",
      " 196608/5001241 [>.............................] - ETA: 36s - loss: 53.9570"
     ]
    },
    {
     "ename": "KeyboardInterrupt",
     "evalue": "",
     "output_type": "error",
     "traceback": [
      "\u001b[0;31m---------------------------------------------------------------------------\u001b[0m",
      "\u001b[0;31mKeyboardInterrupt\u001b[0m                         Traceback (most recent call last)",
      "\u001b[0;32m<ipython-input-24-7059a73cd263>\u001b[0m in \u001b[0;36m<module>\u001b[0;34m()\u001b[0m\n\u001b[1;32m      3\u001b[0m                     \u001b[0mvalidation_split\u001b[0m \u001b[0;34m=\u001b[0m \u001b[0;36m0.01\u001b[0m\u001b[0;34m,\u001b[0m\u001b[0;34m\u001b[0m\u001b[0m\n\u001b[1;32m      4\u001b[0m                     \u001b[0mcallbacks\u001b[0m\u001b[0;34m=\u001b[0m\u001b[0;34m[\u001b[0m\u001b[0mTensorBoard\u001b[0m\u001b[0;34m(\u001b[0m\u001b[0;34m)\u001b[0m\u001b[0;34m]\u001b[0m\u001b[0;34m,\u001b[0m\u001b[0;34m\u001b[0m\u001b[0m\n\u001b[0;32m----> 5\u001b[0;31m                     verbose=1)\n\u001b[0m",
      "\u001b[0;32m~/anaconda3/envs/tensorflow_p36/lib/python3.6/site-packages/keras/engine/training.py\u001b[0m in \u001b[0;36mfit\u001b[0;34m(self, x, y, batch_size, epochs, verbose, callbacks, validation_split, validation_data, shuffle, class_weight, sample_weight, initial_epoch, steps_per_epoch, validation_steps, **kwargs)\u001b[0m\n\u001b[1;32m   1037\u001b[0m                                         \u001b[0minitial_epoch\u001b[0m\u001b[0;34m=\u001b[0m\u001b[0minitial_epoch\u001b[0m\u001b[0;34m,\u001b[0m\u001b[0;34m\u001b[0m\u001b[0m\n\u001b[1;32m   1038\u001b[0m                                         \u001b[0msteps_per_epoch\u001b[0m\u001b[0;34m=\u001b[0m\u001b[0msteps_per_epoch\u001b[0m\u001b[0;34m,\u001b[0m\u001b[0;34m\u001b[0m\u001b[0m\n\u001b[0;32m-> 1039\u001b[0;31m                                         validation_steps=validation_steps)\n\u001b[0m\u001b[1;32m   1040\u001b[0m \u001b[0;34m\u001b[0m\u001b[0m\n\u001b[1;32m   1041\u001b[0m     def evaluate(self, x=None, y=None,\n",
      "\u001b[0;32m~/anaconda3/envs/tensorflow_p36/lib/python3.6/site-packages/keras/engine/training_arrays.py\u001b[0m in \u001b[0;36mfit_loop\u001b[0;34m(model, f, ins, out_labels, batch_size, epochs, verbose, callbacks, val_f, val_ins, shuffle, callback_metrics, initial_epoch, steps_per_epoch, validation_steps)\u001b[0m\n\u001b[1;32m    197\u001b[0m                     \u001b[0mins_batch\u001b[0m\u001b[0;34m[\u001b[0m\u001b[0mi\u001b[0m\u001b[0;34m]\u001b[0m \u001b[0;34m=\u001b[0m \u001b[0mins_batch\u001b[0m\u001b[0;34m[\u001b[0m\u001b[0mi\u001b[0m\u001b[0;34m]\u001b[0m\u001b[0;34m.\u001b[0m\u001b[0mtoarray\u001b[0m\u001b[0;34m(\u001b[0m\u001b[0;34m)\u001b[0m\u001b[0;34m\u001b[0m\u001b[0m\n\u001b[1;32m    198\u001b[0m \u001b[0;34m\u001b[0m\u001b[0m\n\u001b[0;32m--> 199\u001b[0;31m                 \u001b[0mouts\u001b[0m \u001b[0;34m=\u001b[0m \u001b[0mf\u001b[0m\u001b[0;34m(\u001b[0m\u001b[0mins_batch\u001b[0m\u001b[0;34m)\u001b[0m\u001b[0;34m\u001b[0m\u001b[0m\n\u001b[0m\u001b[1;32m    200\u001b[0m                 \u001b[0mouts\u001b[0m \u001b[0;34m=\u001b[0m \u001b[0mto_list\u001b[0m\u001b[0;34m(\u001b[0m\u001b[0mouts\u001b[0m\u001b[0;34m)\u001b[0m\u001b[0;34m\u001b[0m\u001b[0m\n\u001b[1;32m    201\u001b[0m                 \u001b[0;32mfor\u001b[0m \u001b[0ml\u001b[0m\u001b[0;34m,\u001b[0m \u001b[0mo\u001b[0m \u001b[0;32min\u001b[0m \u001b[0mzip\u001b[0m\u001b[0;34m(\u001b[0m\u001b[0mout_labels\u001b[0m\u001b[0;34m,\u001b[0m \u001b[0mouts\u001b[0m\u001b[0;34m)\u001b[0m\u001b[0;34m:\u001b[0m\u001b[0;34m\u001b[0m\u001b[0m\n",
      "\u001b[0;32m~/anaconda3/envs/tensorflow_p36/lib/python3.6/site-packages/keras/backend/tensorflow_backend.py\u001b[0m in \u001b[0;36m__call__\u001b[0;34m(self, inputs)\u001b[0m\n\u001b[1;32m   2713\u001b[0m                 \u001b[0;32mreturn\u001b[0m \u001b[0mself\u001b[0m\u001b[0;34m.\u001b[0m\u001b[0m_legacy_call\u001b[0m\u001b[0;34m(\u001b[0m\u001b[0minputs\u001b[0m\u001b[0;34m)\u001b[0m\u001b[0;34m\u001b[0m\u001b[0m\n\u001b[1;32m   2714\u001b[0m \u001b[0;34m\u001b[0m\u001b[0m\n\u001b[0;32m-> 2715\u001b[0;31m             \u001b[0;32mreturn\u001b[0m \u001b[0mself\u001b[0m\u001b[0;34m.\u001b[0m\u001b[0m_call\u001b[0m\u001b[0;34m(\u001b[0m\u001b[0minputs\u001b[0m\u001b[0;34m)\u001b[0m\u001b[0;34m\u001b[0m\u001b[0m\n\u001b[0m\u001b[1;32m   2716\u001b[0m         \u001b[0;32melse\u001b[0m\u001b[0;34m:\u001b[0m\u001b[0;34m\u001b[0m\u001b[0m\n\u001b[1;32m   2717\u001b[0m             \u001b[0;32mif\u001b[0m \u001b[0mpy_any\u001b[0m\u001b[0;34m(\u001b[0m\u001b[0mis_tensor\u001b[0m\u001b[0;34m(\u001b[0m\u001b[0mx\u001b[0m\u001b[0;34m)\u001b[0m \u001b[0;32mfor\u001b[0m \u001b[0mx\u001b[0m \u001b[0;32min\u001b[0m \u001b[0minputs\u001b[0m\u001b[0;34m)\u001b[0m\u001b[0;34m:\u001b[0m\u001b[0;34m\u001b[0m\u001b[0m\n",
      "\u001b[0;32m~/anaconda3/envs/tensorflow_p36/lib/python3.6/site-packages/keras/backend/tensorflow_backend.py\u001b[0m in \u001b[0;36m_call\u001b[0;34m(self, inputs)\u001b[0m\n\u001b[1;32m   2673\u001b[0m             \u001b[0mfetched\u001b[0m \u001b[0;34m=\u001b[0m \u001b[0mself\u001b[0m\u001b[0;34m.\u001b[0m\u001b[0m_callable_fn\u001b[0m\u001b[0;34m(\u001b[0m\u001b[0;34m*\u001b[0m\u001b[0marray_vals\u001b[0m\u001b[0;34m,\u001b[0m \u001b[0mrun_metadata\u001b[0m\u001b[0;34m=\u001b[0m\u001b[0mself\u001b[0m\u001b[0;34m.\u001b[0m\u001b[0mrun_metadata\u001b[0m\u001b[0;34m)\u001b[0m\u001b[0;34m\u001b[0m\u001b[0m\n\u001b[1;32m   2674\u001b[0m         \u001b[0;32melse\u001b[0m\u001b[0;34m:\u001b[0m\u001b[0;34m\u001b[0m\u001b[0m\n\u001b[0;32m-> 2675\u001b[0;31m             \u001b[0mfetched\u001b[0m \u001b[0;34m=\u001b[0m \u001b[0mself\u001b[0m\u001b[0;34m.\u001b[0m\u001b[0m_callable_fn\u001b[0m\u001b[0;34m(\u001b[0m\u001b[0;34m*\u001b[0m\u001b[0marray_vals\u001b[0m\u001b[0;34m)\u001b[0m\u001b[0;34m\u001b[0m\u001b[0m\n\u001b[0m\u001b[1;32m   2676\u001b[0m         \u001b[0;32mreturn\u001b[0m \u001b[0mfetched\u001b[0m\u001b[0;34m[\u001b[0m\u001b[0;34m:\u001b[0m\u001b[0mlen\u001b[0m\u001b[0;34m(\u001b[0m\u001b[0mself\u001b[0m\u001b[0;34m.\u001b[0m\u001b[0moutputs\u001b[0m\u001b[0;34m)\u001b[0m\u001b[0;34m]\u001b[0m\u001b[0;34m\u001b[0m\u001b[0m\n\u001b[1;32m   2677\u001b[0m \u001b[0;34m\u001b[0m\u001b[0m\n",
      "\u001b[0;32m~/anaconda3/envs/tensorflow_p36/lib/python3.6/site-packages/tensorflow/python/client/session.py\u001b[0m in \u001b[0;36m__call__\u001b[0;34m(self, *args, **kwargs)\u001b[0m\n\u001b[1;32m   1456\u001b[0m         ret = tf_session.TF_SessionRunCallable(self._session._session,\n\u001b[1;32m   1457\u001b[0m                                                \u001b[0mself\u001b[0m\u001b[0;34m.\u001b[0m\u001b[0m_handle\u001b[0m\u001b[0;34m,\u001b[0m \u001b[0margs\u001b[0m\u001b[0;34m,\u001b[0m\u001b[0;34m\u001b[0m\u001b[0m\n\u001b[0;32m-> 1458\u001b[0;31m                                                run_metadata_ptr)\n\u001b[0m\u001b[1;32m   1459\u001b[0m         \u001b[0;32mif\u001b[0m \u001b[0mrun_metadata\u001b[0m\u001b[0;34m:\u001b[0m\u001b[0;34m\u001b[0m\u001b[0m\n\u001b[1;32m   1460\u001b[0m           \u001b[0mproto_data\u001b[0m \u001b[0;34m=\u001b[0m \u001b[0mtf_session\u001b[0m\u001b[0;34m.\u001b[0m\u001b[0mTF_GetBuffer\u001b[0m\u001b[0;34m(\u001b[0m\u001b[0mrun_metadata_ptr\u001b[0m\u001b[0;34m)\u001b[0m\u001b[0;34m\u001b[0m\u001b[0m\n",
      "\u001b[0;31mKeyboardInterrupt\u001b[0m: "
     ]
    }
   ],
   "source": [
    "history = model.fit(call_X_train, call_y_train, \n",
    "                    batch_size=n_batch, epochs=20, \n",
    "                    validation_split = 0.01,\n",
    "                    callbacks=[TensorBoard()],\n",
    "                    verbose=1)"
   ]
  },
  {
   "cell_type": "code",
   "execution_count": 25,
   "metadata": {},
   "outputs": [],
   "source": [
    "model.save('mlp1-110.h5')"
   ]
  },
  {
   "cell_type": "code",
   "execution_count": 26,
   "metadata": {},
   "outputs": [
    {
     "data": {
      "text/plain": [
       "('test set mse', 53.73220293447192)"
      ]
     },
     "execution_count": 26,
     "metadata": {},
     "output_type": "execute_result"
    }
   ],
   "source": [
    "call_y_pred2 = model.predict(call_X_test)\n",
    "'test set mse', np.mean(np.square(call_y_test - np.reshape(call_y_pred2, call_y_pred2.shape[0])))"
   ]
  },
  {
   "cell_type": "markdown",
   "metadata": {},
   "source": [
    "# Now 1e-7 lr"
   ]
  },
  {
   "cell_type": "code",
   "execution_count": 27,
   "metadata": {},
   "outputs": [],
   "source": [
    "model.compile(loss='mse', optimizer=Adam(lr=1e-7))"
   ]
  },
  {
   "cell_type": "code",
   "execution_count": 28,
   "metadata": {},
   "outputs": [
    {
     "name": "stdout",
     "output_type": "stream",
     "text": [
      "Train on 5001241 samples, validate on 50518 samples\n",
      "Epoch 1/10\n",
      "5001241/5001241 [==============================] - 35s 7us/step - loss: 53.1470 - val_loss: 51.8260\n",
      "Epoch 2/10\n",
      "5001241/5001241 [==============================] - 34s 7us/step - loss: 53.1357 - val_loss: 51.8296\n",
      "Epoch 3/10\n",
      "5001241/5001241 [==============================] - 34s 7us/step - loss: 53.1348 - val_loss: 51.8111\n",
      "Epoch 4/10\n",
      "5001241/5001241 [==============================] - 34s 7us/step - loss: 53.1323 - val_loss: 51.8094\n",
      "Epoch 5/10\n",
      "5001241/5001241 [==============================] - 34s 7us/step - loss: 53.1289 - val_loss: 51.8534\n",
      "Epoch 6/10\n",
      " 152576/5001241 [..............................] - ETA: 38s - loss: 52.8562"
     ]
    },
    {
     "ename": "KeyboardInterrupt",
     "evalue": "",
     "output_type": "error",
     "traceback": [
      "\u001b[0;31m---------------------------------------------------------------------------\u001b[0m",
      "\u001b[0;31mKeyboardInterrupt\u001b[0m                         Traceback (most recent call last)",
      "\u001b[0;32m<ipython-input-28-c71052bc5e9b>\u001b[0m in \u001b[0;36m<module>\u001b[0;34m()\u001b[0m\n\u001b[1;32m      3\u001b[0m                     \u001b[0mvalidation_split\u001b[0m \u001b[0;34m=\u001b[0m \u001b[0;36m0.01\u001b[0m\u001b[0;34m,\u001b[0m\u001b[0;34m\u001b[0m\u001b[0m\n\u001b[1;32m      4\u001b[0m                     \u001b[0mcallbacks\u001b[0m\u001b[0;34m=\u001b[0m\u001b[0;34m[\u001b[0m\u001b[0mTensorBoard\u001b[0m\u001b[0;34m(\u001b[0m\u001b[0;34m)\u001b[0m\u001b[0;34m]\u001b[0m\u001b[0;34m,\u001b[0m\u001b[0;34m\u001b[0m\u001b[0m\n\u001b[0;32m----> 5\u001b[0;31m                     verbose=1)\n\u001b[0m",
      "\u001b[0;32m~/anaconda3/envs/tensorflow_p36/lib/python3.6/site-packages/keras/engine/training.py\u001b[0m in \u001b[0;36mfit\u001b[0;34m(self, x, y, batch_size, epochs, verbose, callbacks, validation_split, validation_data, shuffle, class_weight, sample_weight, initial_epoch, steps_per_epoch, validation_steps, **kwargs)\u001b[0m\n\u001b[1;32m   1037\u001b[0m                                         \u001b[0minitial_epoch\u001b[0m\u001b[0;34m=\u001b[0m\u001b[0minitial_epoch\u001b[0m\u001b[0;34m,\u001b[0m\u001b[0;34m\u001b[0m\u001b[0m\n\u001b[1;32m   1038\u001b[0m                                         \u001b[0msteps_per_epoch\u001b[0m\u001b[0;34m=\u001b[0m\u001b[0msteps_per_epoch\u001b[0m\u001b[0;34m,\u001b[0m\u001b[0;34m\u001b[0m\u001b[0m\n\u001b[0;32m-> 1039\u001b[0;31m                                         validation_steps=validation_steps)\n\u001b[0m\u001b[1;32m   1040\u001b[0m \u001b[0;34m\u001b[0m\u001b[0m\n\u001b[1;32m   1041\u001b[0m     def evaluate(self, x=None, y=None,\n",
      "\u001b[0;32m~/anaconda3/envs/tensorflow_p36/lib/python3.6/site-packages/keras/engine/training_arrays.py\u001b[0m in \u001b[0;36mfit_loop\u001b[0;34m(model, f, ins, out_labels, batch_size, epochs, verbose, callbacks, val_f, val_ins, shuffle, callback_metrics, initial_epoch, steps_per_epoch, validation_steps)\u001b[0m\n\u001b[1;32m    197\u001b[0m                     \u001b[0mins_batch\u001b[0m\u001b[0;34m[\u001b[0m\u001b[0mi\u001b[0m\u001b[0;34m]\u001b[0m \u001b[0;34m=\u001b[0m \u001b[0mins_batch\u001b[0m\u001b[0;34m[\u001b[0m\u001b[0mi\u001b[0m\u001b[0;34m]\u001b[0m\u001b[0;34m.\u001b[0m\u001b[0mtoarray\u001b[0m\u001b[0;34m(\u001b[0m\u001b[0;34m)\u001b[0m\u001b[0;34m\u001b[0m\u001b[0m\n\u001b[1;32m    198\u001b[0m \u001b[0;34m\u001b[0m\u001b[0m\n\u001b[0;32m--> 199\u001b[0;31m                 \u001b[0mouts\u001b[0m \u001b[0;34m=\u001b[0m \u001b[0mf\u001b[0m\u001b[0;34m(\u001b[0m\u001b[0mins_batch\u001b[0m\u001b[0;34m)\u001b[0m\u001b[0;34m\u001b[0m\u001b[0m\n\u001b[0m\u001b[1;32m    200\u001b[0m                 \u001b[0mouts\u001b[0m \u001b[0;34m=\u001b[0m \u001b[0mto_list\u001b[0m\u001b[0;34m(\u001b[0m\u001b[0mouts\u001b[0m\u001b[0;34m)\u001b[0m\u001b[0;34m\u001b[0m\u001b[0m\n\u001b[1;32m    201\u001b[0m                 \u001b[0;32mfor\u001b[0m \u001b[0ml\u001b[0m\u001b[0;34m,\u001b[0m \u001b[0mo\u001b[0m \u001b[0;32min\u001b[0m \u001b[0mzip\u001b[0m\u001b[0;34m(\u001b[0m\u001b[0mout_labels\u001b[0m\u001b[0;34m,\u001b[0m \u001b[0mouts\u001b[0m\u001b[0;34m)\u001b[0m\u001b[0;34m:\u001b[0m\u001b[0;34m\u001b[0m\u001b[0m\n",
      "\u001b[0;32m~/anaconda3/envs/tensorflow_p36/lib/python3.6/site-packages/keras/backend/tensorflow_backend.py\u001b[0m in \u001b[0;36m__call__\u001b[0;34m(self, inputs)\u001b[0m\n\u001b[1;32m   2713\u001b[0m                 \u001b[0;32mreturn\u001b[0m \u001b[0mself\u001b[0m\u001b[0;34m.\u001b[0m\u001b[0m_legacy_call\u001b[0m\u001b[0;34m(\u001b[0m\u001b[0minputs\u001b[0m\u001b[0;34m)\u001b[0m\u001b[0;34m\u001b[0m\u001b[0m\n\u001b[1;32m   2714\u001b[0m \u001b[0;34m\u001b[0m\u001b[0m\n\u001b[0;32m-> 2715\u001b[0;31m             \u001b[0;32mreturn\u001b[0m \u001b[0mself\u001b[0m\u001b[0;34m.\u001b[0m\u001b[0m_call\u001b[0m\u001b[0;34m(\u001b[0m\u001b[0minputs\u001b[0m\u001b[0;34m)\u001b[0m\u001b[0;34m\u001b[0m\u001b[0m\n\u001b[0m\u001b[1;32m   2716\u001b[0m         \u001b[0;32melse\u001b[0m\u001b[0;34m:\u001b[0m\u001b[0;34m\u001b[0m\u001b[0m\n\u001b[1;32m   2717\u001b[0m             \u001b[0;32mif\u001b[0m \u001b[0mpy_any\u001b[0m\u001b[0;34m(\u001b[0m\u001b[0mis_tensor\u001b[0m\u001b[0;34m(\u001b[0m\u001b[0mx\u001b[0m\u001b[0;34m)\u001b[0m \u001b[0;32mfor\u001b[0m \u001b[0mx\u001b[0m \u001b[0;32min\u001b[0m \u001b[0minputs\u001b[0m\u001b[0;34m)\u001b[0m\u001b[0;34m:\u001b[0m\u001b[0;34m\u001b[0m\u001b[0m\n",
      "\u001b[0;32m~/anaconda3/envs/tensorflow_p36/lib/python3.6/site-packages/keras/backend/tensorflow_backend.py\u001b[0m in \u001b[0;36m_call\u001b[0;34m(self, inputs)\u001b[0m\n\u001b[1;32m   2673\u001b[0m             \u001b[0mfetched\u001b[0m \u001b[0;34m=\u001b[0m \u001b[0mself\u001b[0m\u001b[0;34m.\u001b[0m\u001b[0m_callable_fn\u001b[0m\u001b[0;34m(\u001b[0m\u001b[0;34m*\u001b[0m\u001b[0marray_vals\u001b[0m\u001b[0;34m,\u001b[0m \u001b[0mrun_metadata\u001b[0m\u001b[0;34m=\u001b[0m\u001b[0mself\u001b[0m\u001b[0;34m.\u001b[0m\u001b[0mrun_metadata\u001b[0m\u001b[0;34m)\u001b[0m\u001b[0;34m\u001b[0m\u001b[0m\n\u001b[1;32m   2674\u001b[0m         \u001b[0;32melse\u001b[0m\u001b[0;34m:\u001b[0m\u001b[0;34m\u001b[0m\u001b[0m\n\u001b[0;32m-> 2675\u001b[0;31m             \u001b[0mfetched\u001b[0m \u001b[0;34m=\u001b[0m \u001b[0mself\u001b[0m\u001b[0;34m.\u001b[0m\u001b[0m_callable_fn\u001b[0m\u001b[0;34m(\u001b[0m\u001b[0;34m*\u001b[0m\u001b[0marray_vals\u001b[0m\u001b[0;34m)\u001b[0m\u001b[0;34m\u001b[0m\u001b[0m\n\u001b[0m\u001b[1;32m   2676\u001b[0m         \u001b[0;32mreturn\u001b[0m \u001b[0mfetched\u001b[0m\u001b[0;34m[\u001b[0m\u001b[0;34m:\u001b[0m\u001b[0mlen\u001b[0m\u001b[0;34m(\u001b[0m\u001b[0mself\u001b[0m\u001b[0;34m.\u001b[0m\u001b[0moutputs\u001b[0m\u001b[0;34m)\u001b[0m\u001b[0;34m]\u001b[0m\u001b[0;34m\u001b[0m\u001b[0m\n\u001b[1;32m   2677\u001b[0m \u001b[0;34m\u001b[0m\u001b[0m\n",
      "\u001b[0;32m~/anaconda3/envs/tensorflow_p36/lib/python3.6/site-packages/tensorflow/python/client/session.py\u001b[0m in \u001b[0;36m__call__\u001b[0;34m(self, *args, **kwargs)\u001b[0m\n\u001b[1;32m   1456\u001b[0m         ret = tf_session.TF_SessionRunCallable(self._session._session,\n\u001b[1;32m   1457\u001b[0m                                                \u001b[0mself\u001b[0m\u001b[0;34m.\u001b[0m\u001b[0m_handle\u001b[0m\u001b[0;34m,\u001b[0m \u001b[0margs\u001b[0m\u001b[0;34m,\u001b[0m\u001b[0;34m\u001b[0m\u001b[0m\n\u001b[0;32m-> 1458\u001b[0;31m                                                run_metadata_ptr)\n\u001b[0m\u001b[1;32m   1459\u001b[0m         \u001b[0;32mif\u001b[0m \u001b[0mrun_metadata\u001b[0m\u001b[0;34m:\u001b[0m\u001b[0;34m\u001b[0m\u001b[0m\n\u001b[1;32m   1460\u001b[0m           \u001b[0mproto_data\u001b[0m \u001b[0;34m=\u001b[0m \u001b[0mtf_session\u001b[0m\u001b[0;34m.\u001b[0m\u001b[0mTF_GetBuffer\u001b[0m\u001b[0;34m(\u001b[0m\u001b[0mrun_metadata_ptr\u001b[0m\u001b[0;34m)\u001b[0m\u001b[0;34m\u001b[0m\u001b[0m\n",
      "\u001b[0;31mKeyboardInterrupt\u001b[0m: "
     ]
    }
   ],
   "source": [
    "history = model.fit(call_X_train, call_y_train, \n",
    "                    batch_size=n_batch, epochs=10, \n",
    "                    validation_split = 0.01,\n",
    "                    callbacks=[TensorBoard()],\n",
    "                    verbose=1)"
   ]
  },
  {
   "cell_type": "code",
   "execution_count": 29,
   "metadata": {},
   "outputs": [
    {
     "data": {
      "text/plain": [
       "('test set mse', 53.5843140261273)"
      ]
     },
     "execution_count": 29,
     "metadata": {},
     "output_type": "execute_result"
    }
   ],
   "source": [
    "model.save('mlp1-115.h5')\n",
    "call_y_pred3 = model.predict(call_X_test)\n",
    "'test set mse', np.mean(np.square(call_y_test - np.reshape(call_y_pred3, call_y_pred3.shape[0])))"
   ]
  },
  {
   "cell_type": "markdown",
   "metadata": {},
   "source": [
    "# Now 1e-8 lr"
   ]
  },
  {
   "cell_type": "code",
   "execution_count": 30,
   "metadata": {},
   "outputs": [
    {
     "name": "stdout",
     "output_type": "stream",
     "text": [
      "Train on 5001241 samples, validate on 50518 samples\n",
      "Epoch 1/5\n",
      "5001241/5001241 [==============================] - 37s 7us/step - loss: 53.0968 - val_loss: 51.7894\n",
      "Epoch 2/5\n",
      "5001241/5001241 [==============================] - 36s 7us/step - loss: 53.0941 - val_loss: 51.7931\n",
      "Epoch 3/5\n",
      "5001241/5001241 [==============================] - 36s 7us/step - loss: 53.0935 - val_loss: 51.7934\n",
      "Epoch 4/5\n",
      "5001241/5001241 [==============================] - 37s 7us/step - loss: 53.0932 - val_loss: 51.7975\n",
      "Epoch 5/5\n",
      "5001241/5001241 [==============================] - 37s 7us/step - loss: 53.0932 - val_loss: 51.7929\n"
     ]
    }
   ],
   "source": [
    "model.compile(loss='mse', optimizer=Adam(lr=1e-8))\n",
    "history = model.fit(call_X_train, call_y_train, \n",
    "                    batch_size=n_batch, epochs=5, \n",
    "                    validation_split = 0.01,\n",
    "                    callbacks=[TensorBoard()],\n",
    "                    verbose=1)"
   ]
  },
  {
   "cell_type": "code",
   "execution_count": 31,
   "metadata": {},
   "outputs": [
    {
     "data": {
      "text/plain": [
       "('test set mse', 53.54766449036366)"
      ]
     },
     "execution_count": 31,
     "metadata": {},
     "output_type": "execute_result"
    }
   ],
   "source": [
    "model.save('mlp1-120.h5')\n",
    "call_y_pred4 = model.predict(call_X_test)\n",
    "'test set mse', np.mean(np.square(call_y_test - np.reshape(call_y_pred4, call_y_pred4.shape[0])))"
   ]
  },
  {
   "cell_type": "code",
   "execution_count": null,
   "metadata": {},
   "outputs": [],
   "source": []
  }
 ],
 "metadata": {
  "kernelspec": {
   "display_name": "Python 3",
   "language": "python",
   "name": "python3"
  },
  "language_info": {
   "codemirror_mode": {
    "name": "ipython",
    "version": 3
   },
   "file_extension": ".py",
   "mimetype": "text/x-python",
   "name": "python",
   "nbconvert_exporter": "python",
   "pygments_lexer": "ipython3",
   "version": "3.7.1"
  }
 },
 "nbformat": 4,
 "nbformat_minor": 2
}
