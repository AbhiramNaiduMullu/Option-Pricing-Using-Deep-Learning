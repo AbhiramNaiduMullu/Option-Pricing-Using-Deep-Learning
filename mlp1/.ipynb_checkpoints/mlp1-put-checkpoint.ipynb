{
 "cells": [
  {
   "cell_type": "code",
   "execution_count": 1,
   "metadata": {},
   "outputs": [
    {
     "name": "stderr",
     "output_type": "stream",
     "text": [
      "Using TensorFlow backend.\n"
     ]
    }
   ],
   "source": [
    "from keras.models import Sequential\n",
    "from keras.layers import Dense, Activation, LeakyReLU, BatchNormalization\n",
    "from keras import backend\n",
    "from keras.callbacks import TensorBoard\n",
    "from keras.optimizers import Adam\n",
    "import pandas as pd\n",
    "import numpy as np\n",
    "from sklearn.model_selection import train_test_split"
   ]
  },
  {
   "cell_type": "code",
   "execution_count": 8,
   "metadata": {},
   "outputs": [],
   "source": [
    "# Hyperparams\n",
    "n_units = 400\n",
    "layers = 4\n",
    "n_batch = 4096\n",
    "n_epochs = 10"
   ]
  },
  {
   "cell_type": "code",
   "execution_count": 3,
   "metadata": {},
   "outputs": [],
   "source": [
    "df = pd.read_csv('../options-df-sigma.csv')\n",
    "df = df.dropna(axis=0)\n",
    "df = df.drop(columns=['date', 'exdate', 'impl_volatility', 'volume', 'open_interest'])\n",
    "df.strike_price = df.strike_price / 1000\n",
    "call_df = df[df.cp_flag == 'C'].drop(['cp_flag'], axis=1)\n",
    "put_df = df[df.cp_flag == 'P'].drop(['cp_flag'], axis=1)"
   ]
  },
  {
   "cell_type": "code",
   "execution_count": 4,
   "metadata": {},
   "outputs": [
    {
     "data": {
      "text/html": [
       "<div>\n",
       "<style scoped>\n",
       "    .dataframe tbody tr th:only-of-type {\n",
       "        vertical-align: middle;\n",
       "    }\n",
       "\n",
       "    .dataframe tbody tr th {\n",
       "        vertical-align: top;\n",
       "    }\n",
       "\n",
       "    .dataframe thead th {\n",
       "        text-align: right;\n",
       "    }\n",
       "</style>\n",
       "<table border=\"1\" class=\"dataframe\">\n",
       "  <thead>\n",
       "    <tr style=\"text-align: right;\">\n",
       "      <th></th>\n",
       "      <th>strike_price</th>\n",
       "      <th>best_bid</th>\n",
       "      <th>best_offer</th>\n",
       "      <th>date_ndiff</th>\n",
       "      <th>treasury_rate</th>\n",
       "      <th>closing_price</th>\n",
       "      <th>sigma_20</th>\n",
       "    </tr>\n",
       "  </thead>\n",
       "  <tbody>\n",
       "    <tr>\n",
       "      <th>1</th>\n",
       "      <td>615.0</td>\n",
       "      <td>5.375</td>\n",
       "      <td>5.750</td>\n",
       "      <td>47</td>\n",
       "      <td>5.17</td>\n",
       "      <td>624.22</td>\n",
       "      <td>0.007761</td>\n",
       "    </tr>\n",
       "    <tr>\n",
       "      <th>2</th>\n",
       "      <td>550.0</td>\n",
       "      <td>10.125</td>\n",
       "      <td>11.750</td>\n",
       "      <td>509</td>\n",
       "      <td>5.05</td>\n",
       "      <td>624.22</td>\n",
       "      <td>0.007761</td>\n",
       "    </tr>\n",
       "    <tr>\n",
       "      <th>3</th>\n",
       "      <td>610.0</td>\n",
       "      <td>9.500</td>\n",
       "      <td>10.000</td>\n",
       "      <td>145</td>\n",
       "      <td>5.12</td>\n",
       "      <td>624.22</td>\n",
       "      <td>0.007761</td>\n",
       "    </tr>\n",
       "    <tr>\n",
       "      <th>4</th>\n",
       "      <td>600.0</td>\n",
       "      <td>2.625</td>\n",
       "      <td>2.875</td>\n",
       "      <td>47</td>\n",
       "      <td>5.17</td>\n",
       "      <td>624.22</td>\n",
       "      <td>0.007761</td>\n",
       "    </tr>\n",
       "    <tr>\n",
       "      <th>5</th>\n",
       "      <td>560.0</td>\n",
       "      <td>0.375</td>\n",
       "      <td>0.625</td>\n",
       "      <td>47</td>\n",
       "      <td>5.17</td>\n",
       "      <td>624.22</td>\n",
       "      <td>0.007761</td>\n",
       "    </tr>\n",
       "  </tbody>\n",
       "</table>\n",
       "</div>"
      ],
      "text/plain": [
       "   strike_price  best_bid  best_offer  date_ndiff  treasury_rate  \\\n",
       "1         615.0     5.375       5.750          47           5.17   \n",
       "2         550.0    10.125      11.750         509           5.05   \n",
       "3         610.0     9.500      10.000         145           5.12   \n",
       "4         600.0     2.625       2.875          47           5.17   \n",
       "5         560.0     0.375       0.625          47           5.17   \n",
       "\n",
       "   closing_price  sigma_20  \n",
       "1         624.22  0.007761  \n",
       "2         624.22  0.007761  \n",
       "3         624.22  0.007761  \n",
       "4         624.22  0.007761  \n",
       "5         624.22  0.007761  "
      ]
     },
     "execution_count": 4,
     "metadata": {},
     "output_type": "execute_result"
    }
   ],
   "source": [
    "put_df.head()"
   ]
  },
  {
   "cell_type": "code",
   "execution_count": 5,
   "metadata": {},
   "outputs": [],
   "source": [
    "call_X_train, call_X_test, call_y_train, call_y_test = train_test_split(call_df.drop(['best_bid', 'best_offer'], axis=1),\n",
    "                                                                        (call_df.best_bid + call_df.best_offer) / 2,\n",
    "                                                                        test_size=0.01, random_state=42)\n",
    "put_X_train, put_X_test, put_y_train, put_y_test = train_test_split(put_df.drop(['best_bid', 'best_offer'], axis=1),\n",
    "                                                                    (put_df.best_bid + put_df.best_offer) / 2,\n",
    "                                                                    test_size=0.01, random_state=42)"
   ]
  },
  {
   "cell_type": "code",
   "execution_count": 6,
   "metadata": {},
   "outputs": [
    {
     "name": "stdout",
     "output_type": "stream",
     "text": [
      "WARNING:tensorflow:From /home/ubuntu/anaconda3/envs/tensorflow_p36/lib/python3.6/site-packages/keras/backend/tensorflow_backend.py:74: The name tf.get_default_graph is deprecated. Please use tf.compat.v1.get_default_graph instead.\n",
      "\n",
      "WARNING:tensorflow:From /home/ubuntu/anaconda3/envs/tensorflow_p36/lib/python3.6/site-packages/keras/backend/tensorflow_backend.py:517: The name tf.placeholder is deprecated. Please use tf.compat.v1.placeholder instead.\n",
      "\n",
      "WARNING:tensorflow:From /home/ubuntu/anaconda3/envs/tensorflow_p36/lib/python3.6/site-packages/keras/backend/tensorflow_backend.py:4138: The name tf.random_uniform is deprecated. Please use tf.random.uniform instead.\n",
      "\n",
      "WARNING:tensorflow:From /home/ubuntu/anaconda3/envs/tensorflow_p36/lib/python3.6/site-packages/keras/backend/tensorflow_backend.py:133: The name tf.placeholder_with_default is deprecated. Please use tf.compat.v1.placeholder_with_default instead.\n",
      "\n",
      "WARNING:tensorflow:From /home/ubuntu/anaconda3/envs/tensorflow_p36/lib/python3.6/site-packages/keras/optimizers.py:790: The name tf.train.Optimizer is deprecated. Please use tf.compat.v1.train.Optimizer instead.\n",
      "\n"
     ]
    }
   ],
   "source": [
    "model = Sequential()\n",
    "model.add(Dense(n_units, input_dim=call_X_train.shape[1]))\n",
    "model.add(LeakyReLU())\n",
    "\n",
    "for _ in range(layers - 1):\n",
    "    model.add(Dense(n_units))\n",
    "    model.add(BatchNormalization())\n",
    "    model.add(LeakyReLU())\n",
    "\n",
    "model.add(Dense(1, activation='relu'))\n",
    "\n",
    "model.compile(loss='mse', optimizer=Adam())"
   ]
  },
  {
   "cell_type": "code",
   "execution_count": 7,
   "metadata": {},
   "outputs": [
    {
     "name": "stdout",
     "output_type": "stream",
     "text": [
      "_________________________________________________________________\n",
      "Layer (type)                 Output Shape              Param #   \n",
      "=================================================================\n",
      "dense_1 (Dense)              (None, 400)               2400      \n",
      "_________________________________________________________________\n",
      "leaky_re_lu_1 (LeakyReLU)    (None, 400)               0         \n",
      "_________________________________________________________________\n",
      "dense_2 (Dense)              (None, 400)               160400    \n",
      "_________________________________________________________________\n",
      "batch_normalization_1 (Batch (None, 400)               1600      \n",
      "_________________________________________________________________\n",
      "leaky_re_lu_2 (LeakyReLU)    (None, 400)               0         \n",
      "_________________________________________________________________\n",
      "dense_3 (Dense)              (None, 400)               160400    \n",
      "_________________________________________________________________\n",
      "batch_normalization_2 (Batch (None, 400)               1600      \n",
      "_________________________________________________________________\n",
      "leaky_re_lu_3 (LeakyReLU)    (None, 400)               0         \n",
      "_________________________________________________________________\n",
      "dense_4 (Dense)              (None, 400)               160400    \n",
      "_________________________________________________________________\n",
      "batch_normalization_3 (Batch (None, 400)               1600      \n",
      "_________________________________________________________________\n",
      "leaky_re_lu_4 (LeakyReLU)    (None, 400)               0         \n",
      "_________________________________________________________________\n",
      "dense_5 (Dense)              (None, 1)                 401       \n",
      "=================================================================\n",
      "Total params: 488,801\n",
      "Trainable params: 486,401\n",
      "Non-trainable params: 2,400\n",
      "_________________________________________________________________\n"
     ]
    }
   ],
   "source": [
    "model.summary()"
   ]
  },
  {
   "cell_type": "code",
   "execution_count": 9,
   "metadata": {},
   "outputs": [
    {
     "name": "stdout",
     "output_type": "stream",
     "text": [
      "WARNING:tensorflow:From /home/ubuntu/anaconda3/envs/tensorflow_p36/lib/python3.6/site-packages/keras/backend/tensorflow_backend.py:986: The name tf.assign_add is deprecated. Please use tf.compat.v1.assign_add instead.\n",
      "\n",
      "Train on 5535888 samples, validate on 55919 samples\n",
      "WARNING:tensorflow:From /home/ubuntu/anaconda3/envs/tensorflow_p36/lib/python3.6/site-packages/keras/callbacks.py:850: The name tf.summary.merge_all is deprecated. Please use tf.compat.v1.summary.merge_all instead.\n",
      "\n",
      "WARNING:tensorflow:From /home/ubuntu/anaconda3/envs/tensorflow_p36/lib/python3.6/site-packages/keras/callbacks.py:853: The name tf.summary.FileWriter is deprecated. Please use tf.compat.v1.summary.FileWriter instead.\n",
      "\n",
      "Epoch 1/10\n",
      "5535888/5535888 [==============================] - 32s 6us/step - loss: 1734.4849 - val_loss: 81.5957\n",
      "Epoch 2/10\n",
      "5535888/5535888 [==============================] - 31s 6us/step - loss: 71.3781 - val_loss: 1137.9404\n",
      "Epoch 3/10\n",
      "5535888/5535888 [==============================] - 31s 6us/step - loss: 66.2412 - val_loss: 178.6793\n",
      "Epoch 4/10\n",
      "5535888/5535888 [==============================] - 31s 6us/step - loss: 65.5800 - val_loss: 64.9594\n",
      "Epoch 5/10\n",
      "5535888/5535888 [==============================] - 31s 6us/step - loss: 64.4383 - val_loss: 90.2561\n",
      "Epoch 6/10\n",
      "5535888/5535888 [==============================] - 32s 6us/step - loss: 54.1315 - val_loss: 36.6932\n",
      "Epoch 7/10\n",
      "5535888/5535888 [==============================] - 32s 6us/step - loss: 49.8986 - val_loss: 30.5672\n",
      "Epoch 8/10\n",
      "5535888/5535888 [==============================] - 33s 6us/step - loss: 47.8402 - val_loss: 41.8535\n",
      "Epoch 9/10\n",
      "5535888/5535888 [==============================] - 34s 6us/step - loss: 46.6202 - val_loss: 77.6910\n",
      "Epoch 10/10\n",
      "5535888/5535888 [==============================] - 32s 6us/step - loss: 44.3902 - val_loss: 78.1141\n"
     ]
    }
   ],
   "source": [
    "history = model.fit(put_X_train, put_y_train, \n",
    "                    batch_size=n_batch, epochs=n_epochs, \n",
    "                    validation_split = 0.01,\n",
    "                    callbacks=[TensorBoard()],\n",
    "                    verbose=1)"
   ]
  },
  {
   "cell_type": "code",
   "execution_count": 10,
   "metadata": {},
   "outputs": [
    {
     "name": "stdout",
     "output_type": "stream",
     "text": [
      "Train on 5535888 samples, validate on 55919 samples\n",
      "Epoch 1/10\n",
      "5535888/5535888 [==============================] - 34s 6us/step - loss: 33.7928 - val_loss: 53.2328\n",
      "Epoch 2/10\n",
      "5535888/5535888 [==============================] - 32s 6us/step - loss: 31.2448 - val_loss: 24.6035\n",
      "Epoch 3/10\n",
      "5535888/5535888 [==============================] - 32s 6us/step - loss: 30.0703 - val_loss: 30.3412\n",
      "Epoch 4/10\n",
      "5535888/5535888 [==============================] - 32s 6us/step - loss: 28.8413 - val_loss: 20.8228\n",
      "Epoch 5/10\n",
      "5535888/5535888 [==============================] - 32s 6us/step - loss: 27.3121 - val_loss: 49.5713\n",
      "Epoch 6/10\n",
      "5535888/5535888 [==============================] - 32s 6us/step - loss: 26.1043 - val_loss: 28.5054\n",
      "Epoch 7/10\n",
      "5535888/5535888 [==============================] - 32s 6us/step - loss: 25.3076 - val_loss: 19.8851\n",
      "Epoch 8/10\n",
      "5535888/5535888 [==============================] - 32s 6us/step - loss: 24.6445 - val_loss: 73.0636\n",
      "Epoch 9/10\n",
      "5535888/5535888 [==============================] - 32s 6us/step - loss: 24.1328 - val_loss: 40.9812\n",
      "Epoch 10/10\n",
      "5535888/5535888 [==============================] - 32s 6us/step - loss: 22.9484 - val_loss: 39.3152\n"
     ]
    }
   ],
   "source": [
    "model.compile(loss='mse', optimizer=Adam(lr=1e-4))\n",
    "history = model.fit(put_X_train, put_y_train, \n",
    "                    batch_size=n_batch, epochs=n_epochs, \n",
    "                    validation_split = 0.01,\n",
    "                    callbacks=[TensorBoard()],\n",
    "                    verbose=1)"
   ]
  },
  {
   "cell_type": "code",
   "execution_count": 11,
   "metadata": {},
   "outputs": [
    {
     "name": "stdout",
     "output_type": "stream",
     "text": [
      "Train on 5535888 samples, validate on 55919 samples\n",
      "Epoch 1/10\n",
      "5535888/5535888 [==============================] - 33s 6us/step - loss: 21.2224 - val_loss: 20.9252\n",
      "Epoch 2/10\n",
      "5535888/5535888 [==============================] - 32s 6us/step - loss: 21.1621 - val_loss: 15.6024\n",
      "Epoch 3/10\n",
      "5535888/5535888 [==============================] - 32s 6us/step - loss: 20.7936 - val_loss: 15.3250\n",
      "Epoch 4/10\n",
      "5535888/5535888 [==============================] - 32s 6us/step - loss: 20.7211 - val_loss: 17.3221\n",
      "Epoch 5/10\n",
      "5535888/5535888 [==============================] - 32s 6us/step - loss: 20.7912 - val_loss: 17.3649\n",
      "Epoch 6/10\n",
      "5535888/5535888 [==============================] - 32s 6us/step - loss: 20.7604 - val_loss: 20.9416\n",
      "Epoch 7/10\n",
      "5535888/5535888 [==============================] - 32s 6us/step - loss: 20.5544 - val_loss: 15.3424\n",
      "Epoch 8/10\n",
      "5535888/5535888 [==============================] - 32s 6us/step - loss: 20.4103 - val_loss: 25.0801\n",
      "Epoch 9/10\n",
      "5535888/5535888 [==============================] - 32s 6us/step - loss: 20.1550 - val_loss: 16.0632\n",
      "Epoch 10/10\n",
      "5535888/5535888 [==============================] - 32s 6us/step - loss: 20.1079 - val_loss: 15.5596\n"
     ]
    }
   ],
   "source": [
    "model.compile(loss='mse', optimizer=Adam(lr=1e-5))\n",
    "history = model.fit(put_X_train, put_y_train, \n",
    "                    batch_size=n_batch, epochs=n_epochs, \n",
    "                    validation_split = 0.01,\n",
    "                    callbacks=[TensorBoard()],\n",
    "                    verbose=1)"
   ]
  },
  {
   "cell_type": "code",
   "execution_count": 12,
   "metadata": {},
   "outputs": [],
   "source": [
    "model.save('mlp1-put30.h5')"
   ]
  },
  {
   "cell_type": "code",
   "execution_count": 13,
   "metadata": {},
   "outputs": [],
   "source": [
    "put_y_pred = model.predict(put_X_test)"
   ]
  },
  {
   "cell_type": "code",
   "execution_count": 14,
   "metadata": {},
   "outputs": [
    {
     "ename": "MemoryError",
     "evalue": "",
     "output_type": "error",
     "traceback": [
      "\u001b[0;31m---------------------------------------------------------------------------\u001b[0m",
      "\u001b[0;31mMemoryError\u001b[0m                               Traceback (most recent call last)",
      "\u001b[0;32m<ipython-input-14-9cffd1ed0903>\u001b[0m in \u001b[0;36m<module>\u001b[0;34m()\u001b[0m\n\u001b[0;32m----> 1\u001b[0;31m \u001b[0mnp\u001b[0m\u001b[0;34m.\u001b[0m\u001b[0mmean\u001b[0m\u001b[0;34m(\u001b[0m\u001b[0mnp\u001b[0m\u001b[0;34m.\u001b[0m\u001b[0msquare\u001b[0m\u001b[0;34m(\u001b[0m\u001b[0mput_y_test\u001b[0m\u001b[0;34m.\u001b[0m\u001b[0mvalues\u001b[0m \u001b[0;34m-\u001b[0m \u001b[0mput_y_pred\u001b[0m\u001b[0;34m)\u001b[0m\u001b[0;34m)\u001b[0m\u001b[0;34m\u001b[0m\u001b[0m\n\u001b[0m",
      "\u001b[0;31mMemoryError\u001b[0m: "
     ]
    }
   ],
   "source": [
    "np.mean(np.square(put_y_test.values - put_y_pred))"
   ]
  },
  {
   "cell_type": "code",
   "execution_count": null,
   "metadata": {},
   "outputs": [],
   "source": []
  }
 ],
 "metadata": {
  "kernelspec": {
   "display_name": "Python 3",
   "language": "python",
   "name": "python3"
  },
  "language_info": {
   "codemirror_mode": {
    "name": "ipython",
    "version": 3
   },
   "file_extension": ".py",
   "mimetype": "text/x-python",
   "name": "python",
   "nbconvert_exporter": "python",
   "pygments_lexer": "ipython3",
   "version": "3.6.5"
  }
 },
 "nbformat": 4,
 "nbformat_minor": 2
}
